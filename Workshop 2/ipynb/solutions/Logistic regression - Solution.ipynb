{
  "nbformat": 4,
  "nbformat_minor": 0,
  "metadata": {
    "kernelspec": {
      "display_name": "Python 3",
      "language": "python",
      "name": "python3"
    },
    "language_info": {
      "codemirror_mode": {
        "name": "ipython",
        "version": 3
      },
      "file_extension": ".py",
      "mimetype": "text/x-python",
      "name": "python",
      "nbconvert_exporter": "python",
      "pygments_lexer": "ipython3",
      "version": "3.7.3"
    },
    "colab": {
      "name": "Logistic regression - Solution.ipynb",
      "provenance": [],
      "toc_visible": true
    }
  },
  "cells": [
    {
      "cell_type": "markdown",
      "metadata": {
        "id": "Lzq9YE-Wnz3b",
        "colab_type": "text"
      },
      "source": [
        "# Logistic Regression\n",
        "\n",
        "Previously, we've looked at linear regression, useful for predicting *continuous variables*. In this workshop we look at logistic regression, with which we can predict *categorical variables* - in other words: *classification*. We'll see that all the concepts introduced for linear regression (e.g. hypothesis, cost function, learning, ...) are useful for logistic regression as well. \n",
        "\n",
        "We'll see that logistic regression is actually a single neuron of a neural network. So it's a single decision unit, capable of making simple decisions, whereas a neural network, consisting of multiple neurons, is capable of making complex decisions (i.e. decisions that are based on information of earlier decisions).\n",
        "\n",
        "This workshop is based on Andrew Ng’s Machine Learning Coursera course. While watching the videos, make notes of the parts that you don’t understand. We’ll discuss these in class."
      ]
    },
    {
      "cell_type": "markdown",
      "metadata": {
        "id": "AXudSXrQnz3c",
        "colab_type": "text"
      },
      "source": [
        "Please watch the following videos (~60 min.): \n",
        "- [Logistic regression: classification](https://www.youtube.com/watch?v=-la3q9d7AKQ&list=PLLssT5z_DsK-h9vYZkQkYNWcItqhlRJLN&index=32) (8 min.). Concepts: classification.\n",
        "- [Logistic regression: hypothesis representation](https://www.youtube.com/watch?v=t1IT5hZfS48&list=PLLssT5z_DsK-h9vYZkQkYNWcItqhlRJLN&index=33) (7 min.). Logistic regression uses the sigmoid function as hypothesis. The hypothesis represents the estimated probability that y=1 on input x.\n",
        "- [Logistic regression: decision boundary](https://www.youtube.com/watch?v=F_VG4LNjZZw&list=PLLssT5z_DsK-h9vYZkQkYNWcItqhlRJLN&index=34) (11 min.). Concepts: decision boundary. Please note that if z is a linear function, the decision boundary is a straight line for two features or a flat plane for three features. Non-linear decision boundaries are possible by adding polynomial terms to the z.\n",
        "- [Logistic regression: cost function](https://www.youtube.com/watch?v=HIQlmHxI6-0&list=PLLssT5z_DsK-h9vYZkQkYNWcItqhlRJLN&index=35) (11 min.). If we use the cost function that we've used for linear regression, the cost function is not guaranteed to be convex: learning might end up in a local minimum. Therefore the logistic regression cost function is used, which is convex.\n",
        "- [Logistic regression: simplified cost function and gradient descent](https://www.youtube.com/watch?v=TTdcc21Ko9A&list=PLLssT5z_DsK-h9vYZkQkYNWcItqhlRJLN&index=36) (10 min.)."
      ]
    },
    {
      "cell_type": "markdown",
      "metadata": {
        "id": "6XepGxbjnz3c",
        "colab_type": "text"
      },
      "source": [
        "# Case description\n",
        "Suppose that you are the administrator of a university department and you want to determine each applicant’s chance of admission based on their results on two exams. You have historical data from previous applicants that you can use as a training set for logistic regression. For each training example, you have the applicant’s scores on two exams and the admissions decision.\n",
        "\n",
        "Your task is to build a classification model that estimates an applicant’s probability of admission based on the scores from those two exams.\n",
        "\n",
        "**Exercise**:\n",
        "* read the training data ```ex2data1.txt```. It has two features and one output. The first feature is the result of the 1st exam (float between 0-100). The second feature is the result of the 2nd exam (float between 0-100). The output is the admission to the university (integer; 0 means no admission, 1 means admission granted). \n",
        "* Save the data in ```X``` and ```y```.\n",
        "* ```df.head()``` is a convenient way to inspect the first couple of training samples.\n",
        "\n",
        "**Exercise**: visualize the data. Use a scatter plot with \"exam 1 score\" on the x-axis, \"exam 2 score\" on the y-axis, and two colours for \"admission\" and \"no admission\". An easy way to separate admitted and not-admitted values in python is by using a mask:\n",
        "  ```\n",
        "  mask = y == 1  # y is a column vector, \n",
        "  adm = plt.scatter(X[mask][0].values, X[mask][1].values)\n",
        "  ```\n",
        "The plot should look similar to:\n",
        "<img src=\"https://github.com/sjoerdteunisse/Avans-A.I-Minor/blob/master/Workshop%202/images/dataVisualization.png?raw=true\" />"
      ]
    },
    {
      "cell_type": "code",
      "metadata": {
        "id": "JBvIynQknz3d",
        "colab_type": "code",
        "colab": {
          "base_uri": "https://localhost:8080/",
          "height": 217
        },
        "outputId": "35a2d76d-b41e-493a-c3bd-3491706f6b77"
      },
      "source": [
        "import numpy as np\n",
        "import matplotlib.pyplot as plt\n",
        "import pandas as pd\n",
        "\n",
        "!wget https://raw.githubusercontent.com/sjoerdteunisse/Avans-A.I-Minor/master/Workshop%202/data/ex2data1.txt\n",
        "\n",
        "# read the training data\n",
        "df = pd.read_csv(\"ex2data1.txt\", header=None)"
      ],
      "execution_count": 1,
      "outputs": [
        {
          "output_type": "stream",
          "text": [
            "--2020-09-13 09:29:53--  https://raw.githubusercontent.com/sjoerdteunisse/Avans-A.I-Minor/master/Workshop%202/data/ex2data1.txt\n",
            "Resolving raw.githubusercontent.com (raw.githubusercontent.com)... 151.101.0.133, 151.101.64.133, 151.101.128.133, ...\n",
            "Connecting to raw.githubusercontent.com (raw.githubusercontent.com)|151.101.0.133|:443... connected.\n",
            "HTTP request sent, awaiting response... 200 OK\n",
            "Length: 3775 (3.7K) [text/plain]\n",
            "Saving to: ‘ex2data1.txt’\n",
            "\n",
            "ex2data1.txt        100%[===================>]   3.69K  --.-KB/s    in 0s      \n",
            "\n",
            "2020-09-13 09:29:53 (61.5 MB/s) - ‘ex2data1.txt’ saved [3775/3775]\n",
            "\n"
          ],
          "name": "stdout"
        }
      ]
    },
    {
      "cell_type": "code",
      "metadata": {
        "id": "Ku61JqCGnz3f",
        "colab_type": "code",
        "colab": {
          "base_uri": "https://localhost:8080/",
          "height": 198
        },
        "outputId": "f0099c92-2a3f-4cca-d236-a240ad7dc9f3"
      },
      "source": [
        "# explore the data\n",
        "X = df.iloc[:,:-1]\n",
        "y = df.iloc[:,2]\n",
        "df.head()"
      ],
      "execution_count": 2,
      "outputs": [
        {
          "output_type": "execute_result",
          "data": {
            "text/html": [
              "<div>\n",
              "<style scoped>\n",
              "    .dataframe tbody tr th:only-of-type {\n",
              "        vertical-align: middle;\n",
              "    }\n",
              "\n",
              "    .dataframe tbody tr th {\n",
              "        vertical-align: top;\n",
              "    }\n",
              "\n",
              "    .dataframe thead th {\n",
              "        text-align: right;\n",
              "    }\n",
              "</style>\n",
              "<table border=\"1\" class=\"dataframe\">\n",
              "  <thead>\n",
              "    <tr style=\"text-align: right;\">\n",
              "      <th></th>\n",
              "      <th>0</th>\n",
              "      <th>1</th>\n",
              "      <th>2</th>\n",
              "    </tr>\n",
              "  </thead>\n",
              "  <tbody>\n",
              "    <tr>\n",
              "      <th>0</th>\n",
              "      <td>34.623660</td>\n",
              "      <td>78.024693</td>\n",
              "      <td>0</td>\n",
              "    </tr>\n",
              "    <tr>\n",
              "      <th>1</th>\n",
              "      <td>30.286711</td>\n",
              "      <td>43.894998</td>\n",
              "      <td>0</td>\n",
              "    </tr>\n",
              "    <tr>\n",
              "      <th>2</th>\n",
              "      <td>35.847409</td>\n",
              "      <td>72.902198</td>\n",
              "      <td>0</td>\n",
              "    </tr>\n",
              "    <tr>\n",
              "      <th>3</th>\n",
              "      <td>60.182599</td>\n",
              "      <td>86.308552</td>\n",
              "      <td>1</td>\n",
              "    </tr>\n",
              "    <tr>\n",
              "      <th>4</th>\n",
              "      <td>79.032736</td>\n",
              "      <td>75.344376</td>\n",
              "      <td>1</td>\n",
              "    </tr>\n",
              "  </tbody>\n",
              "</table>\n",
              "</div>"
            ],
            "text/plain": [
              "           0          1  2\n",
              "0  34.623660  78.024693  0\n",
              "1  30.286711  43.894998  0\n",
              "2  35.847409  72.902198  0\n",
              "3  60.182599  86.308552  1\n",
              "4  79.032736  75.344376  1"
            ]
          },
          "metadata": {
            "tags": []
          },
          "execution_count": 2
        }
      ]
    },
    {
      "cell_type": "code",
      "metadata": {
        "id": "FAqPrI6hnz3h",
        "colab_type": "code",
        "colab": {
          "base_uri": "https://localhost:8080/",
          "height": 279
        },
        "outputId": "92cf6054-6342-49e2-a256-05eaf2fec47e"
      },
      "source": [
        "# visualize the data\n",
        "mask = y == 1\n",
        "adm = plt.scatter(X[mask][0].values, X[mask][1].values)  # boolean array as mask\n",
        "not_adm = plt.scatter(X[~mask][0].values, X[~mask][1].values)\n",
        "plt.xlabel('Exam 1 score')\n",
        "plt.ylabel('Exam 2 score')\n",
        "plt.legend((adm, not_adm), ('Admitted', 'Not admitted'))\n",
        "plt.show()"
      ],
      "execution_count": 3,
      "outputs": [
        {
          "output_type": "display_data",
          "data": {
            "image/png": "[encoded data removed]",
            "text/plain": [
              "<Figure size 432x288 with 1 Axes>"
            ]
          },
          "metadata": {
            "tags": [],
            "needs_background": "light"
          }
        }
      ]
    },
    {
      "cell_type": "code",
      "metadata": {
        "id": "pee4orS0nz3j",
        "colab_type": "code",
        "colab": {}
      },
      "source": [
        "# prepare the training set\n",
        "(m, n) = X.shape\n",
        "ones = np.ones((m, 1))\n",
        "X = np.hstack((ones, X))  # add X_0\n",
        "(m, n) = X.shape\n",
        "y = y[:, np.newaxis]  # convert from vector to matrix; not needed for X, as X is already matrix"
      ],
      "execution_count": 4,
      "outputs": []
    },
    {
      "cell_type": "markdown",
      "metadata": {
        "id": "gXJ70IjYnz3l",
        "colab_type": "text"
      },
      "source": [
        "We're lazy and skip further data exploration and wrangling and assume that there's no missing data and that there are no outliers. \n",
        "\n",
        "We also have already decided that both features are selected for the prediction.\n",
        "\n",
        "Both features have the same range, so we skip feature normalization (lazy again)."
      ]
    },
    {
      "cell_type": "markdown",
      "metadata": {
        "id": "Afyt8MQXnz3l",
        "colab_type": "text"
      },
      "source": [
        "**Exercise**: as explained in the video's, logistic regression uses the sigmoid function. Implement the body of the sigmoid function. The picture shows a number of often-used activation functions.\n",
        "\n",
        "<img src=\"https://github.com/sjoerdteunisse/Avans-A.I-Minor/blob/master/Workshop%202/images/activationFunctions.png?raw=true\"/>"
      ]
    },
    {
      "cell_type": "code",
      "metadata": {
        "id": "LvKPi9YTnz3l",
        "colab_type": "code",
        "colab": {}
      },
      "source": [
        "# by convention, call the function parameter z\n",
        "def sigmoid(z):\n",
        "    return 1/(1 + np.exp(-z))"
      ],
      "execution_count": 5,
      "outputs": []
    },
    {
      "cell_type": "markdown",
      "metadata": {
        "id": "iO5A2hD1nz3n",
        "colab_type": "text"
      },
      "source": [
        "**Exercise**: for linear regression, the hypothesis function was the dot product of $X$ and $\\Theta$. For logistic regression, the hypothesis function is the dot product of $X$ and $\\Theta$ and the result is passed to the sigmoid function. Implement the body of the hypothesis function for logistic regression, using the sigmoid function defined just above."
      ]
    },
    {
      "cell_type": "code",
      "metadata": {
        "id": "vyiEwYvNnz3n",
        "colab_type": "code",
        "colab": {}
      },
      "source": [
        "# hypothesis\n",
        "def h(X, theta):\n",
        "    return sigmoid(X @ theta)  # alternative way of writing dot product"
      ],
      "execution_count": 6,
      "outputs": []
    },
    {
      "cell_type": "markdown",
      "metadata": {
        "id": "gLLr_Mj2nz3q",
        "colab_type": "text"
      },
      "source": [
        "**Exercise**: implement the body of cost function for logistic regression. You can do this based on the picture just below, which already looks quite impressive. The video's have explained why the cost function for logistic regression has this form. To implement the body of the function, you don't need to understand this. You \"only\" need to transform the mathematical notation into python.\n",
        "* Use ```np.log``` to calculate the logarithm.\n",
        "* Use ```np.multiply``` to element-wise multipy ```y``` and ```np.log(h(X, theta))```.\n",
        "* Use ```np.multiply``` to element-wise multipy ```1-y``` and ```np.log(1 - h(X, theta))```.\n",
        "* Use ```np.sum``` to do the summation.\n",
        "* Don't forget to multiply by ```(-1/m)```\n",
        "\n",
        "\n",
        "<img src=\"https://github.com/sjoerdteunisse/Avans-A.I-Minor/blob/master/Workshop%202/images/logisticRegressionCostFunction.png?raw=true\"/>\n",
        "\n"
      ]
    },
    {
      "cell_type": "code",
      "metadata": {
        "id": "7-vAlzarnz3q",
        "colab_type": "code",
        "colab": {}
      },
      "source": [
        "# cost function\n",
        "def J(X, y, theta):\n",
        "    # np.multiply performs elementwise multiplication\n",
        "    return (-1/m) * np.sum(np.multiply(y, np.log(h(X, theta))) + np.multiply((1-y), np.log(1 - h(X, theta))))"
      ],
      "execution_count": 7,
      "outputs": []
    },
    {
      "cell_type": "markdown",
      "metadata": {
        "id": "uYt2yKkcnz3s",
        "colab_type": "text"
      },
      "source": [
        "**Exercise**: implement the body of the gradient function for logistic regression, based on the picture just below. As you have seen in the video's, the gradient is identical to the one of linear regression (except that $h$ is the sigmoid function instead of a linear function)! So this is an easy exercise.\n",
        "\n",
        "<img src=\"https://github.com/sjoerdteunisse/Avans-A.I-Minor/blob/master/Workshop%202/images/gradient.png?raw=true\"/>\n",
        "\n"
      ]
    },
    {
      "cell_type": "code",
      "metadata": {
        "id": "boqaDjHsnz3s",
        "colab_type": "code",
        "colab": {}
      },
      "source": [
        "# gradient\n",
        "def grad(X, y, theta):\n",
        "    return (1/m) * X.T @ (h(X, theta) - y) # simultaneous update"
      ],
      "execution_count": 8,
      "outputs": []
    },
    {
      "cell_type": "code",
      "metadata": {
        "id": "FrejpUx5nz3u",
        "colab_type": "code",
        "colab": {
          "base_uri": "https://localhost:8080/",
          "height": 90
        },
        "outputId": "cb7f53aa-6ac6-4fe0-e417-f30c9cf73e16"
      },
      "source": [
        "# freehand test of cost function and gradient\n",
        "theta = np.zeros((n, 1)) # intializing theta with all zeros\n",
        "print(J(X, y, theta))  # should give 0.6931471805599453\n",
        "np.testing.assert_array_almost_equal_nulp(J(X, y, theta), 0.6931471805599453)\n",
        "print(grad(X, y, theta))  # should give [[-0.1] [-12.009216589291151] [-11.262842205513593]]\n",
        "np.testing.assert_array_almost_equal_nulp(grad(X, y, theta), [[-0.1], [-12.009216589291151], [-11.262842205513593]])"
      ],
      "execution_count": 9,
      "outputs": [
        {
          "output_type": "stream",
          "text": [
            "0.6931471805599453\n",
            "[[ -0.1       ]\n",
            " [-12.00921659]\n",
            " [-11.26284221]]\n"
          ],
          "name": "stdout"
        }
      ]
    },
    {
      "cell_type": "code",
      "metadata": {
        "id": "0nor4JyZnz3v",
        "colab_type": "code",
        "colab": {}
      },
      "source": [
        "# learning algorithm for logsitic regression (identical to the one in the hands-on about linear regression!)\n",
        "def gradientDescent(X, y, theta, alpha, num_iters):\n",
        "    J_history = []\n",
        "    for _ in range(num_iters):\n",
        "        theta -= alpha * grad(X, y, theta)\n",
        "        J_history.append(J(X, y, theta))  # to allow displaying cost as a function of #iters\n",
        "    return theta, J_history"
      ],
      "execution_count": 10,
      "outputs": []
    },
    {
      "cell_type": "code",
      "metadata": {
        "scrolled": true,
        "id": "fbaaJuYenz3y",
        "colab_type": "code",
        "colab": {}
      },
      "source": [
        "# perform learning (identical to the one in the hands-on about linear regression!)\n",
        "num_iters = 150000 # hyper parameter number of iterations\n",
        "alpha = 0.002  # hyper parameter learning rate\n",
        "theta, J_history = gradientDescent(X, y, theta, alpha, num_iters)\n",
        "print(\"theta: \" + str(theta))  # should be [[-10.901] [0.0925] [0.0864]]\n",
        "print(\"cost J: \" + str(J(X, y, theta)))  # should be 0.261"
      ],
      "execution_count": null,
      "outputs": []
    },
    {
      "cell_type": "code",
      "metadata": {
        "id": "qPmpGorbnz3z",
        "colab_type": "code",
        "colab": {}
      },
      "source": [
        "# plot cost function as a function of #iterations\n",
        "plt.plot(J_history)\n",
        "plt.xlabel(\"Iteration\")\n",
        "plt.ylabel(\"$J(\\Theta)$\")\n",
        "plt.title(\"Cost function convergence as a function of #iterations\")\n",
        "plt.show()  # please notice the problems the algorithm has to converge"
      ],
      "execution_count": null,
      "outputs": []
    },
    {
      "cell_type": "code",
      "metadata": {
        "id": "YH6Wf4N9nz31",
        "colab_type": "code",
        "colab": {}
      },
      "source": [
        "# plot decision boundary\n",
        "mask = y.flatten() == 1\n",
        "adm = plt.scatter(X[mask][:,1], X[mask][:,2])\n",
        "not_adm = plt.scatter(X[~mask][:,1], X[~mask][:,2])\n",
        "\n",
        "x_value = np.array([np.min(X[:,1]), np.max(X[:,1])])\n",
        "y_value = -(theta[0] + theta[1] * x_value)/theta[2]\n",
        "plt.plot(x_value, y_value, \"r\")\n",
        "\n",
        "plt.xlabel('Exam 1 score')\n",
        "plt.ylabel('Exam 2 score')\n",
        "plt.legend((adm, not_adm), ('Admitted', 'Not admitted'))\n",
        "plt.show()"
      ],
      "execution_count": null,
      "outputs": []
    },
    {
      "cell_type": "code",
      "metadata": {
        "id": "K8-SjJ_Inz33",
        "colab_type": "code",
        "colab": {}
      },
      "source": [
        "def accuracy(X, y, theta):\n",
        "    pred = h(X, theta) >= 0.5\n",
        "    print(\"type(pred):\", pred[0], y[0])\n",
        "    acc = np.mean(np.array(pred) == y)\n",
        "    return acc * 100\n",
        "\n",
        "print(\"accuracy = \" + str(accuracy(X, y, theta)))  # should be 91%"
      ],
      "execution_count": null,
      "outputs": []
    },
    {
      "cell_type": "markdown",
      "metadata": {
        "id": "E5Y7jvmtnz35",
        "colab_type": "text"
      },
      "source": [
        "Just above, the plot that shows cost function as a function of #iterations, had some problems to converge. Let's try a more sophisticated optimizer than gradient descent: fmin_tnc from the scipy library."
      ]
    },
    {
      "cell_type": "code",
      "metadata": {
        "id": "mv7V3OCGnz35",
        "colab_type": "code",
        "colab": {}
      },
      "source": [
        "# perform learning, but use a more sophisticated optimizer than gradient descent: fmin_tnc\n",
        "import scipy.optimize as opt\n",
        "\n",
        "# Slight inconvenience, fmin_tnc expects the parameters of the cost function and the gradient in a different order. \n",
        "# We redfine the functions with the required parameter order\n",
        "def J_(theta, X, y):\n",
        "    return J(X, y, theta)\n",
        "def grad_(theta, X, y):\n",
        "    return grad(X, y, theta)\n",
        "\n",
        "# to allow displaying cost as a function of #iters\n",
        "J_history = []\n",
        "def callbackF(theta):\n",
        "    J_history.append(J(X, y, theta[:, np.newaxis]))  # transform theta from vector to matrix\n",
        "    \n",
        "theta = np.zeros((n, 1))  # re-intialize theta \n",
        "result = opt.fmin_tnc(func=J_, \n",
        "                    x0=theta.flatten(), \n",
        "                    fprime=grad_, \n",
        "                    args=(X, y.flatten()),\n",
        "                    callback=callbackF)\n",
        "\n",
        "theta = result[0][:, np.newaxis]  # transform theta from vector to matrix\n",
        "print(\"number of performed evaluation steps \" + str(result[1])) \n",
        "print(\"theta optimized: \" + str(theta))  # should be [-25.16131862   0.20623159   0.20147149]\n",
        "print(\"cost J: \" + str(J(X, y, theta)))  # should be 0.20349770158947464"
      ],
      "execution_count": null,
      "outputs": []
    },
    {
      "cell_type": "markdown",
      "metadata": {
        "id": "ipKH3B9Vnz36",
        "colab_type": "text"
      },
      "source": [
        "**Exercise**:\n",
        "* plot cost function as a function of #iterations\n",
        "* plot decision boundary\n",
        "* calculate accuracy"
      ]
    },
    {
      "cell_type": "code",
      "metadata": {
        "id": "6exGIaRynz37",
        "colab_type": "code",
        "colab": {}
      },
      "source": [
        "# plot cost function as a function of #iterations\n",
        "plt.plot(J_history)\n",
        "plt.xlabel(\"Iteration\")\n",
        "plt.ylabel(\"$J(\\Theta)$\")\n",
        "plt.title(\"Cost function convergence as a function of #iterations, using the fmin_tnc optimizer\")\n",
        "plt.show()"
      ],
      "execution_count": null,
      "outputs": []
    },
    {
      "cell_type": "code",
      "metadata": {
        "id": "huD72q8wnz39",
        "colab_type": "code",
        "colab": {}
      },
      "source": [
        "# plot decision boundary\n",
        "mask = y.flatten() == 1\n",
        "adm = plt.scatter(X[mask][:,1], X[mask][:,2])\n",
        "not_adm = plt.scatter(X[~mask][:,1], X[~mask][:,2])\n",
        "\n",
        "x_value = np.array([np.min(X[:,1]), np.max(X[:,1])])\n",
        "y_value = -(theta[0] + theta[1] * x_value)/theta[2]\n",
        "plt.plot(x_value, y_value, \"r\")\n",
        "\n",
        "plt.xlabel('Exam 1 score')\n",
        "plt.ylabel('Exam 2 score')\n",
        "plt.legend((adm, not_adm), ('Admitted', 'Not admitted'))\n",
        "plt.show()"
      ],
      "execution_count": null,
      "outputs": []
    },
    {
      "cell_type": "code",
      "metadata": {
        "id": "nlKPY7Renz4A",
        "colab_type": "code",
        "colab": {}
      },
      "source": [
        "# accuracy\n",
        "print(\"accuracy = \" + str(accuracy(X, y, theta)))  # should be 89%"
      ],
      "execution_count": null,
      "outputs": []
    },
    {
      "cell_type": "markdown",
      "metadata": {
        "id": "rYUPle18nz4D",
        "colab_type": "text"
      },
      "source": [
        "***\n",
        "\n",
        "**Discussion**: when defining the hypothesis we've chosen:\n",
        "* $z = x \\cdot \\Theta$ (so a linear function of the features x1 and x2)\n",
        "* $h_\\Theta(x) = sigmoid(z)$\n",
        "This means that the decision boundary is a straight line. Considering the obtained accuracy, this seems to be a fair choice.\n",
        "\n",
        "We could add polynomial terms $(x_1)^2$, $x_1x_2$ and $(x_2)^2$ as additional features. This allows the decision boundary to become curved, which allows for a higher accuracy on the training set. We could even add higher order polynomial terms like x1^3 and x2^3 as additional features. Continuing to do so, we can reach an accuracy of 100%. \n",
        "\n",
        "**Question**: do you think this is a wise move?"
      ]
    }
  ]
}