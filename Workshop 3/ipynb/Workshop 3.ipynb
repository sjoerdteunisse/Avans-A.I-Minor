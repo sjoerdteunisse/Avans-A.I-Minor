{
  "nbformat": 4,
  "nbformat_minor": 0,
  "metadata": {
    "kernelspec": {
      "display_name": "Python 3",
      "language": "python",
      "name": "python3"
    },
    "language_info": {
      "codemirror_mode": {
        "name": "ipython",
        "version": 3
      },
      "file_extension": ".py",
      "mimetype": "text/x-python",
      "name": "python",
      "nbconvert_exporter": "python",
      "pygments_lexer": "ipython3",
      "version": "3.8.3"
    },
    "colab": {
      "name": "Workshop 3.ipynb",
      "provenance": [],
      "toc_visible": true
    }
  },
  "cells": [
    {
      "cell_type": "markdown",
      "metadata": {
        "id": "LbYbxmQH9Quz",
        "colab_type": "text"
      },
      "source": [
        "# Workshop 3: Wrangling, exploration & cleaning"
      ]
    },
    {
      "cell_type": "markdown",
      "metadata": {
        "id": "BK3mi32T9Quz",
        "colab_type": "text"
      },
      "source": [
        "Interesting sources: \n",
        "- https://learn.datacamp.com/courses/introduction-to-data-science-in-python\n",
        "- https://learn.datacamp.com/courses/data-manipulation-with-pandas"
      ]
    },
    {
      "cell_type": "markdown",
      "metadata": {
        "id": "AhFu00sB9Qu0",
        "colab_type": "text"
      },
      "source": [
        "![](https://docs.microsoft.com/en-us/azure/machine-learning/team-data-science-process/media/overview/tdsp-lifecycle2.png \"Data Science Lifecycle\")"
      ]
    },
    {
      "cell_type": "markdown",
      "metadata": {
        "id": "YGyCtaiB9Qu0",
        "colab_type": "text"
      },
      "source": [
        "## Why exploration?"
      ]
    },
    {
      "cell_type": "markdown",
      "metadata": {
        "id": "uyJwqJCp9Qu1",
        "colab_type": "text"
      },
      "source": [
        "### Data understanding & quality\n",
        "* What does the data mean?\n",
        "* Do I understand the context of the data?\n",
        "* Does the data make sense?\n",
        "* Are there any quality issues?\n",
        "* Do I have enough data for my model?\n",
        "* Is the data ready to be used by my model?\n",
        "\n",
        "### Data visualization\n",
        "* Helps you understand the data\n",
        "* Helps you let others (colleges, manager, customer, etc.) understand the data and the story you want to tell them."
      ]
    },
    {
      "cell_type": "markdown",
      "metadata": {
        "id": "d0fMS6p79Qu1",
        "colab_type": "text"
      },
      "source": [
        "## Tools\n",
        "\n",
        "### Data exploration & wrangling\n",
        "\n",
        "* Pandas\n",
        "\n",
        "### Exploration by visualizing\n",
        "* Matplotlib: Forms the base. Very flexible. Many knots to turns. Not always the best, quickest out-of-the-box visualization \n",
        "* Pandas: Uses matplotlib. Helps to easier plot data from pandas dataframes.\n",
        "* Seaborn: Wrapped around matplotlib to make the plots more visually appealing and also makes some complicated plots easier to create. "
      ]
    },
    {
      "cell_type": "markdown",
      "metadata": {
        "id": "GZLIOj1E9Qu1",
        "colab_type": "text"
      },
      "source": [
        "## Reading data"
      ]
    },
    {
      "cell_type": "markdown",
      "metadata": {
        "id": "xqEEGwAz9Qu2",
        "colab_type": "text"
      },
      "source": [
        "In this scenario we received a csv file, extracted from a relational database, from an energy company like Essent, Nuon, Eneco, E. ON, Engie, etc.\n",
        "This is a common scenario when working for a client, because it's unlikely that they will provide you with direct access to their database. This CSV file is the result of a large SQL-query with multiple JOINs and GROUP BY's on multiple tables.\n",
        "\n",
        "During the course of this notebook, we will be asking the same questions that you will be asking and answering in almost any data science scenario. "
      ]
    },
    {
      "cell_type": "code",
      "metadata": {
        "id": "OrxA6Tbu9Qu2",
        "colab_type": "code",
        "colab": {}
      },
      "source": [
        "import pandas as pd"
      ],
      "execution_count": 18,
      "outputs": []
    },
    {
      "cell_type": "code",
      "metadata": {
        "id": "3dhJBRCL9Qu4",
        "colab_type": "code",
        "colab": {}
      },
      "source": [
        "pd.read_csv?"
      ],
      "execution_count": 19,
      "outputs": []
    },
    {
      "cell_type": "code",
      "metadata": {
        "id": "gTlmZWFJ9U1j",
        "colab_type": "code",
        "colab": {
          "base_uri": "https://localhost:8080/",
          "height": 204
        },
        "outputId": "30a9ebaf-d588-4a1b-9bf4-679a2863d1d0"
      },
      "source": [
        "!wget https://raw.githubusercontent.com/sjoerdteunisse/Avans-A.I-Minor/master/Workshop%203/data/EnergyCorp.csv"
      ],
      "execution_count": 20,
      "outputs": [
        {
          "output_type": "stream",
          "text": [
            "--2020-09-03 12:36:28--  https://raw.githubusercontent.com/sjoerdteunisse/Avans-A.I-Minor/master/Workshop%203/data/EnergyCorp.csv\n",
            "Resolving raw.githubusercontent.com (raw.githubusercontent.com)... 151.101.0.133, 151.101.64.133, 151.101.128.133, ...\n",
            "Connecting to raw.githubusercontent.com (raw.githubusercontent.com)|151.101.0.133|:443... connected.\n",
            "HTTP request sent, awaiting response... 200 OK\n",
            "Length: 1663292 (1.6M) [text/plain]\n",
            "Saving to: ‘EnergyCorp.csv.1’\n",
            "\n",
            "\rEnergyCorp.csv.1      0%[                    ]       0  --.-KB/s               \rEnergyCorp.csv.1    100%[===================>]   1.59M  --.-KB/s    in 0.06s   \n",
            "\n",
            "2020-09-03 12:36:29 (25.0 MB/s) - ‘EnergyCorp.csv.1’ saved [1663292/1663292]\n",
            "\n"
          ],
          "name": "stdout"
        }
      ]
    },
    {
      "cell_type": "code",
      "metadata": {
        "id": "6GzKPtBU9Qu6",
        "colab_type": "code",
        "colab": {}
      },
      "source": [
        "df = pd.read_csv('/content/EnergyCorp.csv', sep=';', error_bad_lines=False)"
      ],
      "execution_count": 21,
      "outputs": []
    },
    {
      "cell_type": "markdown",
      "metadata": {
        "id": "1MS643Bj9Qu8",
        "colab_type": "text"
      },
      "source": [
        "What does a row mean in this dataset?"
      ]
    },
    {
      "cell_type": "code",
      "metadata": {
        "id": "Qojnrm269Qu8",
        "colab_type": "code",
        "colab": {
          "base_uri": "https://localhost:8080/",
          "height": 462
        },
        "outputId": "e68a28d0-2026-4915-e991-171b0ca591c9"
      },
      "source": [
        "df.head()"
      ],
      "execution_count": 22,
      "outputs": [
        {
          "output_type": "execute_result",
          "data": {
            "text/html": [
              "<div>\n",
              "<style scoped>\n",
              "    .dataframe tbody tr th:only-of-type {\n",
              "        vertical-align: middle;\n",
              "    }\n",
              "\n",
              "    .dataframe tbody tr th {\n",
              "        vertical-align: top;\n",
              "    }\n",
              "\n",
              "    .dataframe thead th {\n",
              "        text-align: right;\n",
              "    }\n",
              "</style>\n",
              "<table border=\"1\" class=\"dataframe\">\n",
              "  <thead>\n",
              "    <tr style=\"text-align: right;\">\n",
              "      <th></th>\n",
              "      <th>klantnr</th>\n",
              "      <th>huidig_contractduur</th>\n",
              "      <th>VERBRUIKGAS</th>\n",
              "      <th>VERBRUIKEL</th>\n",
              "      <th>VERBRUIKHOOG</th>\n",
              "      <th>VERBRUIKLAAG</th>\n",
              "      <th>nieuwsbrief</th>\n",
              "      <th>wervingskanaal</th>\n",
              "      <th>vast_variabel</th>\n",
              "      <th>grijs_groen</th>\n",
              "      <th>startlevering</th>\n",
              "      <th>eindlevering</th>\n",
              "      <th>contract_verlengd</th>\n",
              "      <th>welstand</th>\n",
              "      <th>levensfase</th>\n",
              "      <th>bouwjaar</th>\n",
              "      <th>soort_woning</th>\n",
              "      <th>inkomen</th>\n",
              "      <th>opleiding</th>\n",
              "    </tr>\n",
              "  </thead>\n",
              "  <tbody>\n",
              "    <tr>\n",
              "      <th>0</th>\n",
              "      <td>10135</td>\n",
              "      <td>12</td>\n",
              "      <td>0</td>\n",
              "      <td>3047</td>\n",
              "      <td>0</td>\n",
              "      <td>0</td>\n",
              "      <td>Y</td>\n",
              "      <td>Online</td>\n",
              "      <td>vaste prijs</td>\n",
              "      <td>grijze stroom</td>\n",
              "      <td>11-10-2002</td>\n",
              "      <td>3-11-2004</td>\n",
              "      <td>niet verlengd</td>\n",
              "      <td>Laag</td>\n",
              "      <td>Alleenstaand</td>\n",
              "      <td>1940 tot 1969</td>\n",
              "      <td>Hoge flat</td>\n",
              "      <td>tussen modaal en 2 keer modaal keer modaal of ...</td>\n",
              "      <td>Midden</td>\n",
              "    </tr>\n",
              "    <tr>\n",
              "      <th>1</th>\n",
              "      <td>10150</td>\n",
              "      <td>12</td>\n",
              "      <td>0</td>\n",
              "      <td>0</td>\n",
              "      <td>3247</td>\n",
              "      <td>3257</td>\n",
              "      <td>Y</td>\n",
              "      <td>Online</td>\n",
              "      <td>vaste prijs</td>\n",
              "      <td>grijze stroom</td>\n",
              "      <td>11-10-2002</td>\n",
              "      <td>11-10-2005</td>\n",
              "      <td>niet verlengd</td>\n",
              "      <td>Hoog</td>\n",
              "      <td>Paar met kinderen</td>\n",
              "      <td>1970 tot 1989</td>\n",
              "      <td>Rijtjeshuis</td>\n",
              "      <td>modaal</td>\n",
              "      <td>Hoog</td>\n",
              "    </tr>\n",
              "    <tr>\n",
              "      <th>2</th>\n",
              "      <td>10159</td>\n",
              "      <td>12</td>\n",
              "      <td>0</td>\n",
              "      <td>2426</td>\n",
              "      <td>0</td>\n",
              "      <td>0</td>\n",
              "      <td>N</td>\n",
              "      <td>Online</td>\n",
              "      <td>vaste prijs</td>\n",
              "      <td>grijze stroom</td>\n",
              "      <td>11-10-2002</td>\n",
              "      <td>5-1-2007</td>\n",
              "      <td>niet verlengd</td>\n",
              "      <td>Midden</td>\n",
              "      <td>Paar met kinderen</td>\n",
              "      <td>Voor 1899</td>\n",
              "      <td>Rijtjeshuis</td>\n",
              "      <td>tussen modaal en 2 keer modaal</td>\n",
              "      <td>Hoog</td>\n",
              "    </tr>\n",
              "    <tr>\n",
              "      <th>3</th>\n",
              "      <td>10193</td>\n",
              "      <td>36</td>\n",
              "      <td>1616</td>\n",
              "      <td>2092</td>\n",
              "      <td>0</td>\n",
              "      <td>0</td>\n",
              "      <td>Y</td>\n",
              "      <td>Inbound</td>\n",
              "      <td>variabele prijs</td>\n",
              "      <td>groene stroom</td>\n",
              "      <td>17-10-2002</td>\n",
              "      <td>26-3-2012</td>\n",
              "      <td>niet verlengd</td>\n",
              "      <td>Laag</td>\n",
              "      <td>Paar met kinderen</td>\n",
              "      <td>Voor 1899</td>\n",
              "      <td>Lage flat</td>\n",
              "      <td>modaal</td>\n",
              "      <td>Laag</td>\n",
              "    </tr>\n",
              "    <tr>\n",
              "      <th>4</th>\n",
              "      <td>10206</td>\n",
              "      <td>12</td>\n",
              "      <td>0</td>\n",
              "      <td>2787</td>\n",
              "      <td>0</td>\n",
              "      <td>0</td>\n",
              "      <td>Y</td>\n",
              "      <td>Online</td>\n",
              "      <td>vaste prijs</td>\n",
              "      <td>groene stroom</td>\n",
              "      <td>11-10-2002</td>\n",
              "      <td>5-2-2009</td>\n",
              "      <td>niet verlengd</td>\n",
              "      <td>Hoog</td>\n",
              "      <td>Paar met kinderen</td>\n",
              "      <td>Voor 1899</td>\n",
              "      <td>Rijtjeshuis</td>\n",
              "      <td>modaal</td>\n",
              "      <td>Midden</td>\n",
              "    </tr>\n",
              "  </tbody>\n",
              "</table>\n",
              "</div>"
            ],
            "text/plain": [
              "   klantnr  ...  opleiding\n",
              "0    10135  ...     Midden\n",
              "1    10150  ...       Hoog\n",
              "2    10159  ...       Hoog\n",
              "3    10193  ...       Laag\n",
              "4    10206  ...     Midden\n",
              "\n",
              "[5 rows x 19 columns]"
            ]
          },
          "metadata": {
            "tags": []
          },
          "execution_count": 22
        }
      ]
    },
    {
      "cell_type": "markdown",
      "metadata": {
        "id": "yvE0-yZQ9Qu-",
        "colab_type": "text"
      },
      "source": [
        "How many customers (= rows) do we have data about?"
      ]
    },
    {
      "cell_type": "code",
      "metadata": {
        "id": "fAX3fiUP9Qu-",
        "colab_type": "code",
        "colab": {
          "base_uri": "https://localhost:8080/",
          "height": 34
        },
        "outputId": "c32cdce5-d7d3-4382-9b2d-b8b900cffe17"
      },
      "source": [
        "len(df)"
      ],
      "execution_count": 23,
      "outputs": [
        {
          "output_type": "execute_result",
          "data": {
            "text/plain": [
              "9939"
            ]
          },
          "metadata": {
            "tags": []
          },
          "execution_count": 23
        }
      ]
    },
    {
      "cell_type": "markdown",
      "metadata": {
        "id": "isF2A8sU9QvA",
        "colab_type": "text"
      },
      "source": [
        "What type of information have we received about these customers?"
      ]
    },
    {
      "cell_type": "code",
      "metadata": {
        "id": "C60Jw3Ga9QvB",
        "colab_type": "code",
        "colab": {
          "base_uri": "https://localhost:8080/",
          "height": 119
        },
        "outputId": "43a6f49c-a91f-4010-d3dd-420c16bac3a3"
      },
      "source": [
        "df.columns"
      ],
      "execution_count": 24,
      "outputs": [
        {
          "output_type": "execute_result",
          "data": {
            "text/plain": [
              "Index(['klantnr', 'huidig_contractduur', 'VERBRUIKGAS', 'VERBRUIKEL',\n",
              "       'VERBRUIKHOOG', 'VERBRUIKLAAG', 'nieuwsbrief', 'wervingskanaal',\n",
              "       'vast_variabel', 'grijs_groen', 'startlevering', 'eindlevering',\n",
              "       'contract_verlengd', 'welstand', 'levensfase', 'bouwjaar',\n",
              "       'soort_woning', 'inkomen', 'opleiding'],\n",
              "      dtype='object')"
            ]
          },
          "metadata": {
            "tags": []
          },
          "execution_count": 24
        }
      ]
    },
    {
      "cell_type": "markdown",
      "metadata": {
        "id": "wwxa7ONn9QvD",
        "colab_type": "text"
      },
      "source": [
        "Pandas: Filtering specific columns"
      ]
    },
    {
      "cell_type": "code",
      "metadata": {
        "id": "DeeyWQkg9QvD",
        "colab_type": "code",
        "colab": {
          "base_uri": "https://localhost:8080/",
          "height": 221
        },
        "outputId": "52121325-642f-4db4-9411-ddf03081226c"
      },
      "source": [
        "df['klantnr']"
      ],
      "execution_count": 25,
      "outputs": [
        {
          "output_type": "execute_result",
          "data": {
            "text/plain": [
              "0        10135\n",
              "1        10150\n",
              "2        10159\n",
              "3        10193\n",
              "4        10206\n",
              "         ...  \n",
              "9934    760912\n",
              "9935    764164\n",
              "9936    764460\n",
              "9937    765254\n",
              "9938    766333\n",
              "Name: klantnr, Length: 9939, dtype: int64"
            ]
          },
          "metadata": {
            "tags": []
          },
          "execution_count": 25
        }
      ]
    },
    {
      "cell_type": "code",
      "metadata": {
        "id": "-SUdLNml9QvE",
        "colab_type": "code",
        "colab": {
          "base_uri": "https://localhost:8080/",
          "height": 419
        },
        "outputId": "ee95fced-8bd0-43b1-96d5-f8072fb71f3a"
      },
      "source": [
        "df[['klantnr', 'nieuwsbrief']]"
      ],
      "execution_count": 26,
      "outputs": [
        {
          "output_type": "execute_result",
          "data": {
            "text/html": [
              "<div>\n",
              "<style scoped>\n",
              "    .dataframe tbody tr th:only-of-type {\n",
              "        vertical-align: middle;\n",
              "    }\n",
              "\n",
              "    .dataframe tbody tr th {\n",
              "        vertical-align: top;\n",
              "    }\n",
              "\n",
              "    .dataframe thead th {\n",
              "        text-align: right;\n",
              "    }\n",
              "</style>\n",
              "<table border=\"1\" class=\"dataframe\">\n",
              "  <thead>\n",
              "    <tr style=\"text-align: right;\">\n",
              "      <th></th>\n",
              "      <th>klantnr</th>\n",
              "      <th>nieuwsbrief</th>\n",
              "    </tr>\n",
              "  </thead>\n",
              "  <tbody>\n",
              "    <tr>\n",
              "      <th>0</th>\n",
              "      <td>10135</td>\n",
              "      <td>Y</td>\n",
              "    </tr>\n",
              "    <tr>\n",
              "      <th>1</th>\n",
              "      <td>10150</td>\n",
              "      <td>Y</td>\n",
              "    </tr>\n",
              "    <tr>\n",
              "      <th>2</th>\n",
              "      <td>10159</td>\n",
              "      <td>N</td>\n",
              "    </tr>\n",
              "    <tr>\n",
              "      <th>3</th>\n",
              "      <td>10193</td>\n",
              "      <td>Y</td>\n",
              "    </tr>\n",
              "    <tr>\n",
              "      <th>4</th>\n",
              "      <td>10206</td>\n",
              "      <td>Y</td>\n",
              "    </tr>\n",
              "    <tr>\n",
              "      <th>...</th>\n",
              "      <td>...</td>\n",
              "      <td>...</td>\n",
              "    </tr>\n",
              "    <tr>\n",
              "      <th>9934</th>\n",
              "      <td>760912</td>\n",
              "      <td>Y</td>\n",
              "    </tr>\n",
              "    <tr>\n",
              "      <th>9935</th>\n",
              "      <td>764164</td>\n",
              "      <td>N</td>\n",
              "    </tr>\n",
              "    <tr>\n",
              "      <th>9936</th>\n",
              "      <td>764460</td>\n",
              "      <td>N</td>\n",
              "    </tr>\n",
              "    <tr>\n",
              "      <th>9937</th>\n",
              "      <td>765254</td>\n",
              "      <td>N</td>\n",
              "    </tr>\n",
              "    <tr>\n",
              "      <th>9938</th>\n",
              "      <td>766333</td>\n",
              "      <td>N</td>\n",
              "    </tr>\n",
              "  </tbody>\n",
              "</table>\n",
              "<p>9939 rows × 2 columns</p>\n",
              "</div>"
            ],
            "text/plain": [
              "      klantnr nieuwsbrief\n",
              "0       10135           Y\n",
              "1       10150           Y\n",
              "2       10159           N\n",
              "3       10193           Y\n",
              "4       10206           Y\n",
              "...       ...         ...\n",
              "9934   760912           Y\n",
              "9935   764164           N\n",
              "9936   764460           N\n",
              "9937   765254           N\n",
              "9938   766333           N\n",
              "\n",
              "[9939 rows x 2 columns]"
            ]
          },
          "metadata": {
            "tags": []
          },
          "execution_count": 26
        }
      ]
    },
    {
      "cell_type": "markdown",
      "metadata": {
        "id": "rkfJIKbV9QvG",
        "colab_type": "text"
      },
      "source": [
        "Filtering specific rows"
      ]
    },
    {
      "cell_type": "code",
      "metadata": {
        "id": "umPDq1kN9QvG",
        "colab_type": "code",
        "colab": {
          "base_uri": "https://localhost:8080/",
          "height": 414
        },
        "outputId": "e79ecab4-115f-499e-a24e-c1008cb8a760"
      },
      "source": [
        "df.iloc[0:4]"
      ],
      "execution_count": 27,
      "outputs": [
        {
          "output_type": "execute_result",
          "data": {
            "text/html": [
              "<div>\n",
              "<style scoped>\n",
              "    .dataframe tbody tr th:only-of-type {\n",
              "        vertical-align: middle;\n",
              "    }\n",
              "\n",
              "    .dataframe tbody tr th {\n",
              "        vertical-align: top;\n",
              "    }\n",
              "\n",
              "    .dataframe thead th {\n",
              "        text-align: right;\n",
              "    }\n",
              "</style>\n",
              "<table border=\"1\" class=\"dataframe\">\n",
              "  <thead>\n",
              "    <tr style=\"text-align: right;\">\n",
              "      <th></th>\n",
              "      <th>klantnr</th>\n",
              "      <th>huidig_contractduur</th>\n",
              "      <th>VERBRUIKGAS</th>\n",
              "      <th>VERBRUIKEL</th>\n",
              "      <th>VERBRUIKHOOG</th>\n",
              "      <th>VERBRUIKLAAG</th>\n",
              "      <th>nieuwsbrief</th>\n",
              "      <th>wervingskanaal</th>\n",
              "      <th>vast_variabel</th>\n",
              "      <th>grijs_groen</th>\n",
              "      <th>startlevering</th>\n",
              "      <th>eindlevering</th>\n",
              "      <th>contract_verlengd</th>\n",
              "      <th>welstand</th>\n",
              "      <th>levensfase</th>\n",
              "      <th>bouwjaar</th>\n",
              "      <th>soort_woning</th>\n",
              "      <th>inkomen</th>\n",
              "      <th>opleiding</th>\n",
              "    </tr>\n",
              "  </thead>\n",
              "  <tbody>\n",
              "    <tr>\n",
              "      <th>0</th>\n",
              "      <td>10135</td>\n",
              "      <td>12</td>\n",
              "      <td>0</td>\n",
              "      <td>3047</td>\n",
              "      <td>0</td>\n",
              "      <td>0</td>\n",
              "      <td>Y</td>\n",
              "      <td>Online</td>\n",
              "      <td>vaste prijs</td>\n",
              "      <td>grijze stroom</td>\n",
              "      <td>11-10-2002</td>\n",
              "      <td>3-11-2004</td>\n",
              "      <td>niet verlengd</td>\n",
              "      <td>Laag</td>\n",
              "      <td>Alleenstaand</td>\n",
              "      <td>1940 tot 1969</td>\n",
              "      <td>Hoge flat</td>\n",
              "      <td>tussen modaal en 2 keer modaal keer modaal of ...</td>\n",
              "      <td>Midden</td>\n",
              "    </tr>\n",
              "    <tr>\n",
              "      <th>1</th>\n",
              "      <td>10150</td>\n",
              "      <td>12</td>\n",
              "      <td>0</td>\n",
              "      <td>0</td>\n",
              "      <td>3247</td>\n",
              "      <td>3257</td>\n",
              "      <td>Y</td>\n",
              "      <td>Online</td>\n",
              "      <td>vaste prijs</td>\n",
              "      <td>grijze stroom</td>\n",
              "      <td>11-10-2002</td>\n",
              "      <td>11-10-2005</td>\n",
              "      <td>niet verlengd</td>\n",
              "      <td>Hoog</td>\n",
              "      <td>Paar met kinderen</td>\n",
              "      <td>1970 tot 1989</td>\n",
              "      <td>Rijtjeshuis</td>\n",
              "      <td>modaal</td>\n",
              "      <td>Hoog</td>\n",
              "    </tr>\n",
              "    <tr>\n",
              "      <th>2</th>\n",
              "      <td>10159</td>\n",
              "      <td>12</td>\n",
              "      <td>0</td>\n",
              "      <td>2426</td>\n",
              "      <td>0</td>\n",
              "      <td>0</td>\n",
              "      <td>N</td>\n",
              "      <td>Online</td>\n",
              "      <td>vaste prijs</td>\n",
              "      <td>grijze stroom</td>\n",
              "      <td>11-10-2002</td>\n",
              "      <td>5-1-2007</td>\n",
              "      <td>niet verlengd</td>\n",
              "      <td>Midden</td>\n",
              "      <td>Paar met kinderen</td>\n",
              "      <td>Voor 1899</td>\n",
              "      <td>Rijtjeshuis</td>\n",
              "      <td>tussen modaal en 2 keer modaal</td>\n",
              "      <td>Hoog</td>\n",
              "    </tr>\n",
              "    <tr>\n",
              "      <th>3</th>\n",
              "      <td>10193</td>\n",
              "      <td>36</td>\n",
              "      <td>1616</td>\n",
              "      <td>2092</td>\n",
              "      <td>0</td>\n",
              "      <td>0</td>\n",
              "      <td>Y</td>\n",
              "      <td>Inbound</td>\n",
              "      <td>variabele prijs</td>\n",
              "      <td>groene stroom</td>\n",
              "      <td>17-10-2002</td>\n",
              "      <td>26-3-2012</td>\n",
              "      <td>niet verlengd</td>\n",
              "      <td>Laag</td>\n",
              "      <td>Paar met kinderen</td>\n",
              "      <td>Voor 1899</td>\n",
              "      <td>Lage flat</td>\n",
              "      <td>modaal</td>\n",
              "      <td>Laag</td>\n",
              "    </tr>\n",
              "  </tbody>\n",
              "</table>\n",
              "</div>"
            ],
            "text/plain": [
              "   klantnr  ...  opleiding\n",
              "0    10135  ...     Midden\n",
              "1    10150  ...       Hoog\n",
              "2    10159  ...       Hoog\n",
              "3    10193  ...       Laag\n",
              "\n",
              "[4 rows x 19 columns]"
            ]
          },
          "metadata": {
            "tags": []
          },
          "execution_count": 27
        }
      ]
    },
    {
      "cell_type": "markdown",
      "metadata": {
        "id": "muG41e-S9QvI",
        "colab_type": "text"
      },
      "source": [
        "Filtering rows and columns at the same time"
      ]
    },
    {
      "cell_type": "code",
      "metadata": {
        "id": "B7No18Ts9QvJ",
        "colab_type": "code",
        "colab": {
          "base_uri": "https://localhost:8080/",
          "height": 204
        },
        "outputId": "d85b5d11-7ff8-487d-c4f3-f0b333195133"
      },
      "source": [
        "df.loc[0:4, ['klantnr', 'nieuwsbrief']]"
      ],
      "execution_count": 28,
      "outputs": [
        {
          "output_type": "execute_result",
          "data": {
            "text/html": [
              "<div>\n",
              "<style scoped>\n",
              "    .dataframe tbody tr th:only-of-type {\n",
              "        vertical-align: middle;\n",
              "    }\n",
              "\n",
              "    .dataframe tbody tr th {\n",
              "        vertical-align: top;\n",
              "    }\n",
              "\n",
              "    .dataframe thead th {\n",
              "        text-align: right;\n",
              "    }\n",
              "</style>\n",
              "<table border=\"1\" class=\"dataframe\">\n",
              "  <thead>\n",
              "    <tr style=\"text-align: right;\">\n",
              "      <th></th>\n",
              "      <th>klantnr</th>\n",
              "      <th>nieuwsbrief</th>\n",
              "    </tr>\n",
              "  </thead>\n",
              "  <tbody>\n",
              "    <tr>\n",
              "      <th>0</th>\n",
              "      <td>10135</td>\n",
              "      <td>Y</td>\n",
              "    </tr>\n",
              "    <tr>\n",
              "      <th>1</th>\n",
              "      <td>10150</td>\n",
              "      <td>Y</td>\n",
              "    </tr>\n",
              "    <tr>\n",
              "      <th>2</th>\n",
              "      <td>10159</td>\n",
              "      <td>N</td>\n",
              "    </tr>\n",
              "    <tr>\n",
              "      <th>3</th>\n",
              "      <td>10193</td>\n",
              "      <td>Y</td>\n",
              "    </tr>\n",
              "    <tr>\n",
              "      <th>4</th>\n",
              "      <td>10206</td>\n",
              "      <td>Y</td>\n",
              "    </tr>\n",
              "  </tbody>\n",
              "</table>\n",
              "</div>"
            ],
            "text/plain": [
              "   klantnr nieuwsbrief\n",
              "0    10135           Y\n",
              "1    10150           Y\n",
              "2    10159           N\n",
              "3    10193           Y\n",
              "4    10206           Y"
            ]
          },
          "metadata": {
            "tags": []
          },
          "execution_count": 28
        }
      ]
    },
    {
      "cell_type": "markdown",
      "metadata": {
        "id": "kuLx1MWF9QvK",
        "colab_type": "text"
      },
      "source": [
        "Filtering rows based on a condition"
      ]
    },
    {
      "cell_type": "code",
      "metadata": {
        "id": "H6zYKSa99QvL",
        "colab_type": "code",
        "colab": {
          "base_uri": "https://localhost:8080/",
          "height": 394
        },
        "outputId": "e84454d0-9aa3-4821-ff1b-f692c51bb5b0"
      },
      "source": [
        "klanten_met_nieuwsbrief = df[df['nieuwsbrief'] == 'Y']\n",
        "klanten_met_nieuwsbrief.head()"
      ],
      "execution_count": 29,
      "outputs": [
        {
          "output_type": "execute_result",
          "data": {
            "text/html": [
              "<div>\n",
              "<style scoped>\n",
              "    .dataframe tbody tr th:only-of-type {\n",
              "        vertical-align: middle;\n",
              "    }\n",
              "\n",
              "    .dataframe tbody tr th {\n",
              "        vertical-align: top;\n",
              "    }\n",
              "\n",
              "    .dataframe thead th {\n",
              "        text-align: right;\n",
              "    }\n",
              "</style>\n",
              "<table border=\"1\" class=\"dataframe\">\n",
              "  <thead>\n",
              "    <tr style=\"text-align: right;\">\n",
              "      <th></th>\n",
              "      <th>klantnr</th>\n",
              "      <th>huidig_contractduur</th>\n",
              "      <th>VERBRUIKGAS</th>\n",
              "      <th>VERBRUIKEL</th>\n",
              "      <th>VERBRUIKHOOG</th>\n",
              "      <th>VERBRUIKLAAG</th>\n",
              "      <th>nieuwsbrief</th>\n",
              "      <th>wervingskanaal</th>\n",
              "      <th>vast_variabel</th>\n",
              "      <th>grijs_groen</th>\n",
              "      <th>startlevering</th>\n",
              "      <th>eindlevering</th>\n",
              "      <th>contract_verlengd</th>\n",
              "      <th>welstand</th>\n",
              "      <th>levensfase</th>\n",
              "      <th>bouwjaar</th>\n",
              "      <th>soort_woning</th>\n",
              "      <th>inkomen</th>\n",
              "      <th>opleiding</th>\n",
              "    </tr>\n",
              "  </thead>\n",
              "  <tbody>\n",
              "    <tr>\n",
              "      <th>0</th>\n",
              "      <td>10135</td>\n",
              "      <td>12</td>\n",
              "      <td>0</td>\n",
              "      <td>3047</td>\n",
              "      <td>0</td>\n",
              "      <td>0</td>\n",
              "      <td>Y</td>\n",
              "      <td>Online</td>\n",
              "      <td>vaste prijs</td>\n",
              "      <td>grijze stroom</td>\n",
              "      <td>11-10-2002</td>\n",
              "      <td>3-11-2004</td>\n",
              "      <td>niet verlengd</td>\n",
              "      <td>Laag</td>\n",
              "      <td>Alleenstaand</td>\n",
              "      <td>1940 tot 1969</td>\n",
              "      <td>Hoge flat</td>\n",
              "      <td>tussen modaal en 2 keer modaal keer modaal of ...</td>\n",
              "      <td>Midden</td>\n",
              "    </tr>\n",
              "    <tr>\n",
              "      <th>1</th>\n",
              "      <td>10150</td>\n",
              "      <td>12</td>\n",
              "      <td>0</td>\n",
              "      <td>0</td>\n",
              "      <td>3247</td>\n",
              "      <td>3257</td>\n",
              "      <td>Y</td>\n",
              "      <td>Online</td>\n",
              "      <td>vaste prijs</td>\n",
              "      <td>grijze stroom</td>\n",
              "      <td>11-10-2002</td>\n",
              "      <td>11-10-2005</td>\n",
              "      <td>niet verlengd</td>\n",
              "      <td>Hoog</td>\n",
              "      <td>Paar met kinderen</td>\n",
              "      <td>1970 tot 1989</td>\n",
              "      <td>Rijtjeshuis</td>\n",
              "      <td>modaal</td>\n",
              "      <td>Hoog</td>\n",
              "    </tr>\n",
              "    <tr>\n",
              "      <th>3</th>\n",
              "      <td>10193</td>\n",
              "      <td>36</td>\n",
              "      <td>1616</td>\n",
              "      <td>2092</td>\n",
              "      <td>0</td>\n",
              "      <td>0</td>\n",
              "      <td>Y</td>\n",
              "      <td>Inbound</td>\n",
              "      <td>variabele prijs</td>\n",
              "      <td>groene stroom</td>\n",
              "      <td>17-10-2002</td>\n",
              "      <td>26-3-2012</td>\n",
              "      <td>niet verlengd</td>\n",
              "      <td>Laag</td>\n",
              "      <td>Paar met kinderen</td>\n",
              "      <td>Voor 1899</td>\n",
              "      <td>Lage flat</td>\n",
              "      <td>modaal</td>\n",
              "      <td>Laag</td>\n",
              "    </tr>\n",
              "    <tr>\n",
              "      <th>4</th>\n",
              "      <td>10206</td>\n",
              "      <td>12</td>\n",
              "      <td>0</td>\n",
              "      <td>2787</td>\n",
              "      <td>0</td>\n",
              "      <td>0</td>\n",
              "      <td>Y</td>\n",
              "      <td>Online</td>\n",
              "      <td>vaste prijs</td>\n",
              "      <td>groene stroom</td>\n",
              "      <td>11-10-2002</td>\n",
              "      <td>5-2-2009</td>\n",
              "      <td>niet verlengd</td>\n",
              "      <td>Hoog</td>\n",
              "      <td>Paar met kinderen</td>\n",
              "      <td>Voor 1899</td>\n",
              "      <td>Rijtjeshuis</td>\n",
              "      <td>modaal</td>\n",
              "      <td>Midden</td>\n",
              "    </tr>\n",
              "    <tr>\n",
              "      <th>5</th>\n",
              "      <td>10209</td>\n",
              "      <td>36</td>\n",
              "      <td>2167</td>\n",
              "      <td>0</td>\n",
              "      <td>2549</td>\n",
              "      <td>2106</td>\n",
              "      <td>Y</td>\n",
              "      <td>Speciale sales acties</td>\n",
              "      <td>variabele prijs</td>\n",
              "      <td>grijze stroom</td>\n",
              "      <td>11-10-2002</td>\n",
              "      <td>16-8-2012</td>\n",
              "      <td>niet verlengd</td>\n",
              "      <td>Hoog</td>\n",
              "      <td>Paar met kinderen</td>\n",
              "      <td>Voor 1899</td>\n",
              "      <td>Rijtjeshuis</td>\n",
              "      <td>Onbekend</td>\n",
              "      <td>Midden</td>\n",
              "    </tr>\n",
              "  </tbody>\n",
              "</table>\n",
              "</div>"
            ],
            "text/plain": [
              "   klantnr  ...  opleiding\n",
              "0    10135  ...     Midden\n",
              "1    10150  ...       Hoog\n",
              "3    10193  ...       Laag\n",
              "4    10206  ...     Midden\n",
              "5    10209  ...     Midden\n",
              "\n",
              "[5 rows x 19 columns]"
            ]
          },
          "metadata": {
            "tags": []
          },
          "execution_count": 29
        }
      ]
    },
    {
      "cell_type": "markdown",
      "metadata": {
        "id": "vlPFX2qn9QvM",
        "colab_type": "text"
      },
      "source": [
        "When looking at data, you will typically notice two big distinct types of data:\n",
        "* **Categorical**: Has a distinct number of possible values. Also known as **qualitative data**. Example columns: nieuwsbrief, wervingskanaal, grijs_groen, ...\n",
        "* **Numerical**: Data for which operations like addition, substraction, multiplication and divsions make sense. Also known as **quantitative data**. Examples of columns: VERBRUIKGAS, VERBUIKEL, ...\n",
        "\n",
        "This distinction is important because this type defines what kind of exploration we can do on that column."
      ]
    },
    {
      "cell_type": "markdown",
      "metadata": {
        "id": "w25Hkj879QvN",
        "colab_type": "text"
      },
      "source": [
        "### Exercise: What kind of data is...\n",
        "- welstand?\n",
        "- VERBRUIKHOOG?\n",
        "- klantnr?"
      ]
    },
    {
      "cell_type": "markdown",
      "metadata": {
        "id": "UTrk3n_o9QvN",
        "colab_type": "text"
      },
      "source": [
        "## Unvariate analysis"
      ]
    },
    {
      "cell_type": "markdown",
      "metadata": {
        "id": "xs2jneUV9QvN",
        "colab_type": "text"
      },
      "source": [
        "In univariate analysis we look at each column separately. In this notebook, I will mostly be talking about 'columns'. This is the term that we're used to from SQL and relationele databases. However, you will encounter other terms depending on the domain or perspective.\n",
        "\n",
        "- SQL: Columns\n",
        "- Statistics: Variables\n",
        "- Machine Learning: Features\n",
        "\n",
        "Important questions related to univeriate analysis:\n",
        "* What kind of values does this column have?\n",
        "* How are the values of this column distributed?\n",
        "* Do all rows have a value for this column?\n",
        "* Do the values in this column make sense? "
      ]
    },
    {
      "cell_type": "markdown",
      "metadata": {
        "id": "kXkkT9sl9QvO",
        "colab_type": "text"
      },
      "source": [
        "Let's start with a categorical variable: wervingskanaal"
      ]
    },
    {
      "cell_type": "code",
      "metadata": {
        "id": "gbN5U_ac9QvO",
        "colab_type": "code",
        "colab": {
          "base_uri": "https://localhost:8080/",
          "height": 0
        },
        "outputId": "0d1e4823-5e76-418e-e4a6-b99e4787f4fb"
      },
      "source": [
        "df['wervingskanaal']"
      ],
      "execution_count": 30,
      "outputs": [
        {
          "output_type": "execute_result",
          "data": {
            "text/plain": [
              "0                 Online\n",
              "1                 Online\n",
              "2                 Online\n",
              "3                Inbound\n",
              "4                 Online\n",
              "              ...       \n",
              "9934       Telemarketing\n",
              "9935    Prijsvergelijker\n",
              "9936    Prijsvergelijker\n",
              "9937              Online\n",
              "9938             Inbound\n",
              "Name: wervingskanaal, Length: 9939, dtype: object"
            ]
          },
          "metadata": {
            "tags": []
          },
          "execution_count": 30
        }
      ]
    },
    {
      "cell_type": "markdown",
      "metadata": {
        "id": "UrLhLZge9QvQ",
        "colab_type": "text"
      },
      "source": [
        "What kind of values does this column have?"
      ]
    },
    {
      "cell_type": "code",
      "metadata": {
        "id": "btDXyFXR9QvQ",
        "colab_type": "code",
        "colab": {
          "base_uri": "https://localhost:8080/",
          "height": 0
        },
        "outputId": "e398a864-ad08-4f1f-bb28-91eab087253f"
      },
      "source": [
        "df['wervingskanaal'].unique()"
      ],
      "execution_count": 31,
      "outputs": [
        {
          "output_type": "execute_result",
          "data": {
            "text/plain": [
              "array(['Online', 'Inbound', 'Speciale sales acties', 'Telemarketing',\n",
              "       'Prijsvergelijker', 'Door 2 Door'], dtype=object)"
            ]
          },
          "metadata": {
            "tags": []
          },
          "execution_count": 31
        }
      ]
    },
    {
      "cell_type": "markdown",
      "metadata": {
        "id": "5DPlWdIb9QvU",
        "colab_type": "text"
      },
      "source": [
        "### Exercise\n",
        "Do we understand what these values mean? \n",
        "If not, where can you obtain this information if this was data for your group project?"
      ]
    },
    {
      "cell_type": "markdown",
      "metadata": {
        "id": "9Hn9ub_C9QvV",
        "colab_type": "text"
      },
      "source": [
        "How are the values of this column distributed?"
      ]
    },
    {
      "cell_type": "code",
      "metadata": {
        "id": "jd130Ppr9QvV",
        "colab_type": "code",
        "colab": {
          "base_uri": "https://localhost:8080/",
          "height": 0
        },
        "outputId": "4da34259-d185-43b7-b14e-32a8930f989d"
      },
      "source": [
        "df['wervingskanaal'].value_counts()"
      ],
      "execution_count": 32,
      "outputs": [
        {
          "output_type": "execute_result",
          "data": {
            "text/plain": [
              "Telemarketing            4207\n",
              "Online                   1969\n",
              "Prijsvergelijker         1295\n",
              "Door 2 Door              1061\n",
              "Speciale sales acties     735\n",
              "Inbound                   672\n",
              "Name: wervingskanaal, dtype: int64"
            ]
          },
          "metadata": {
            "tags": []
          },
          "execution_count": 32
        }
      ]
    },
    {
      "cell_type": "markdown",
      "metadata": {
        "id": "hizja2PC9QvW",
        "colab_type": "text"
      },
      "source": [
        "We know the information for the distribution, but good visualizations are easier to understand, read and interpret than text.\n",
        "The distribution of categorical data can for example be visualized with a **bar plot**. "
      ]
    },
    {
      "cell_type": "code",
      "metadata": {
        "id": "dotL-IIa9QvX",
        "colab_type": "code",
        "colab": {
          "base_uri": "https://localhost:8080/",
          "height": 0
        },
        "outputId": "23d68926-d8e8-4f94-fb17-c07698e18b09"
      },
      "source": [
        "df['wervingskanaal'].value_counts().plot(kind='bar')"
      ],
      "execution_count": 33,
      "outputs": [
        {
          "output_type": "execute_result",
          "data": {
            "text/plain": [
              "<matplotlib.axes._subplots.AxesSubplot at 0x7fc146cedc50>"
            ]
          },
          "metadata": {
            "tags": []
          },
          "execution_count": 33
        },
        {
          "output_type": "display_data",
          "data": {
            "image/png": "[encoded data removed]",
            "text/plain": [
              "<Figure size 432x288 with 1 Axes>"
            ]
          },
          "metadata": {
            "tags": [],
            "needs_background": "light"
          }
        }
      ]
    },
    {
      "cell_type": "markdown",
      "metadata": {
        "id": "4MLuMKot9QvY",
        "colab_type": "text"
      },
      "source": [
        "Now let's look at a numerical variable: VERBRUIKGAS"
      ]
    },
    {
      "cell_type": "code",
      "metadata": {
        "id": "ShqVf0SI9QvZ",
        "colab_type": "code",
        "colab": {
          "base_uri": "https://localhost:8080/",
          "height": 0
        },
        "outputId": "c6bea98c-d8e2-4a28-a12c-85cebff17159"
      },
      "source": [
        "df['VERBRUIKGAS']"
      ],
      "execution_count": 34,
      "outputs": [
        {
          "output_type": "execute_result",
          "data": {
            "text/plain": [
              "0          0\n",
              "1          0\n",
              "2          0\n",
              "3       1616\n",
              "4          0\n",
              "        ... \n",
              "9934    3602\n",
              "9935    1703\n",
              "9936    1023\n",
              "9937    3691\n",
              "9938    3357\n",
              "Name: VERBRUIKGAS, Length: 9939, dtype: int64"
            ]
          },
          "metadata": {
            "tags": []
          },
          "execution_count": 34
        }
      ]
    },
    {
      "cell_type": "markdown",
      "metadata": {
        "id": "Gz9agAsQ9Qva",
        "colab_type": "text"
      },
      "source": [
        "Numerical variables tend to have a large range of values, so it doesn't make sense to look at unique values like we did for categorical variables.\n",
        "Important questions to ask:\n",
        "- What's the lowest and highest value that we see in the data? = What's the lowest and highest gas consumption that we see in the data? This provides us with insights in the range of the data.\n",
        "- What's mean or median value? = What's the average gas consumption? This provides us with insight about what typical values we could expect. "
      ]
    },
    {
      "cell_type": "markdown",
      "metadata": {
        "id": "n81Jqvpo9Qvb",
        "colab_type": "text"
      },
      "source": [
        "We could ask for each of these statistics separately..."
      ]
    },
    {
      "cell_type": "code",
      "metadata": {
        "id": "2Y86ux-d9Qvb",
        "colab_type": "code",
        "colab": {
          "base_uri": "https://localhost:8080/",
          "height": 0
        },
        "outputId": "1382f552-a1a9-47e7-f651-337152510359"
      },
      "source": [
        "print(df['VERBRUIKGAS'].min())\n",
        "print(df['VERBRUIKGAS'].max())"
      ],
      "execution_count": 35,
      "outputs": [
        {
          "output_type": "stream",
          "text": [
            "0\n",
            "386338\n"
          ],
          "name": "stdout"
        }
      ]
    },
    {
      "cell_type": "markdown",
      "metadata": {
        "id": "cmmF2cKk9Qvc",
        "colab_type": "text"
      },
      "source": [
        "... but Pandas has a nice function for providing all these statistics at once"
      ]
    },
    {
      "cell_type": "code",
      "metadata": {
        "id": "_Dub4fBv9Qvd",
        "colab_type": "code",
        "colab": {
          "base_uri": "https://localhost:8080/",
          "height": 0
        },
        "outputId": "a9d349a6-2e57-4d22-8475-db8240c6558d"
      },
      "source": [
        "df['VERBRUIKGAS'].describe()"
      ],
      "execution_count": 36,
      "outputs": [
        {
          "output_type": "execute_result",
          "data": {
            "text/plain": [
              "count      9939.000000\n",
              "mean       2180.022739\n",
              "std        7998.935912\n",
              "min           0.000000\n",
              "25%         954.000000\n",
              "50%        1597.000000\n",
              "75%        2296.500000\n",
              "max      386338.000000\n",
              "Name: VERBRUIKGAS, dtype: float64"
            ]
          },
          "metadata": {
            "tags": []
          },
          "execution_count": 36
        }
      ]
    },
    {
      "cell_type": "markdown",
      "metadata": {
        "id": "tOp_CZrf9Qve",
        "colab_type": "text"
      },
      "source": [
        "Both the mean and the median (The 50% number above) provide us with an insight in what the typical value is that we might expect. The most important difference is that the median is less effected by outliers (=the extreme values) than the mean.\n"
      ]
    },
    {
      "cell_type": "code",
      "metadata": {
        "id": "FxMaFdRQ9Qve",
        "colab_type": "code",
        "colab": {
          "base_uri": "https://localhost:8080/",
          "height": 0
        },
        "outputId": "3431d0c7-f939-4a8e-8296-20355d95c713"
      },
      "source": [
        "print(df['VERBRUIKGAS'].mean())\n",
        "print(df['VERBRUIKGAS'].median())"
      ],
      "execution_count": 37,
      "outputs": [
        {
          "output_type": "stream",
          "text": [
            "2180.0227387061072\n",
            "1597.0\n"
          ],
          "name": "stdout"
        }
      ]
    },
    {
      "cell_type": "markdown",
      "metadata": {
        "id": "qeSkrT6k9Qvg",
        "colab_type": "text"
      },
      "source": [
        "We see that gas consumption is somewhere betweem 0 and 386338.  \n",
        "However, the mean is only 2180 and the median is only 1597. \n",
        "This means there are a small amount of customers that have extremely large gas consumption compared to the average customer.  \n",
        "\n",
        "Does this make sense? If you're not sure, it's best to explore to data to find an explanation or to ask someone with domain knowledge.  \n",
        "There are various reasons why this could make sense; The customer could represent a whole block of appartments, the customer could be a business, etc.  \n",
        "Let's look at a couple of the customers that have an extremely high gas consumption. Maybe we'll find an explanation in one of the other columns."
      ]
    },
    {
      "cell_type": "code",
      "metadata": {
        "id": "JktfZTFl9Qvg",
        "colab_type": "code",
        "colab": {
          "base_uri": "https://localhost:8080/",
          "height": 0
        },
        "outputId": "d9d21ee8-b9e2-4376-fbd4-9b9af8e8379c"
      },
      "source": [
        "df[df['VERBRUIKGAS'] > 200000]"
      ],
      "execution_count": 38,
      "outputs": [
        {
          "output_type": "execute_result",
          "data": {
            "text/html": [
              "<div>\n",
              "<style scoped>\n",
              "    .dataframe tbody tr th:only-of-type {\n",
              "        vertical-align: middle;\n",
              "    }\n",
              "\n",
              "    .dataframe tbody tr th {\n",
              "        vertical-align: top;\n",
              "    }\n",
              "\n",
              "    .dataframe thead th {\n",
              "        text-align: right;\n",
              "    }\n",
              "</style>\n",
              "<table border=\"1\" class=\"dataframe\">\n",
              "  <thead>\n",
              "    <tr style=\"text-align: right;\">\n",
              "      <th></th>\n",
              "      <th>klantnr</th>\n",
              "      <th>huidig_contractduur</th>\n",
              "      <th>VERBRUIKGAS</th>\n",
              "      <th>VERBRUIKEL</th>\n",
              "      <th>VERBRUIKHOOG</th>\n",
              "      <th>VERBRUIKLAAG</th>\n",
              "      <th>nieuwsbrief</th>\n",
              "      <th>wervingskanaal</th>\n",
              "      <th>vast_variabel</th>\n",
              "      <th>grijs_groen</th>\n",
              "      <th>startlevering</th>\n",
              "      <th>eindlevering</th>\n",
              "      <th>contract_verlengd</th>\n",
              "      <th>welstand</th>\n",
              "      <th>levensfase</th>\n",
              "      <th>bouwjaar</th>\n",
              "      <th>soort_woning</th>\n",
              "      <th>inkomen</th>\n",
              "      <th>opleiding</th>\n",
              "    </tr>\n",
              "  </thead>\n",
              "  <tbody>\n",
              "    <tr>\n",
              "      <th>1622</th>\n",
              "      <td>70645</td>\n",
              "      <td>36</td>\n",
              "      <td>386338</td>\n",
              "      <td>254839</td>\n",
              "      <td>154509</td>\n",
              "      <td>68586</td>\n",
              "      <td>Y</td>\n",
              "      <td>Speciale sales acties</td>\n",
              "      <td>variabele prijs</td>\n",
              "      <td>grijze stroom</td>\n",
              "      <td>1-12-2004</td>\n",
              "      <td>4-9-2012</td>\n",
              "      <td>niet verlengd</td>\n",
              "      <td>Laag</td>\n",
              "      <td>Paar zonder kinderen</td>\n",
              "      <td></td>\n",
              "      <td></td>\n",
              "      <td></td>\n",
              "      <td>NaN</td>\n",
              "    </tr>\n",
              "    <tr>\n",
              "      <th>1625</th>\n",
              "      <td>70663</td>\n",
              "      <td>12</td>\n",
              "      <td>253045</td>\n",
              "      <td>0</td>\n",
              "      <td>0</td>\n",
              "      <td>0</td>\n",
              "      <td>Y</td>\n",
              "      <td>Telemarketing</td>\n",
              "      <td>variabele prijs</td>\n",
              "      <td>grijze stroom</td>\n",
              "      <td>1-12-2004</td>\n",
              "      <td>31-12-2010</td>\n",
              "      <td>niet verlengd</td>\n",
              "      <td>Hoog</td>\n",
              "      <td>Paar met kinderen</td>\n",
              "      <td>Voor 1899</td>\n",
              "      <td>Twee onder een kap</td>\n",
              "      <td>Onbekend</td>\n",
              "      <td>Laag</td>\n",
              "    </tr>\n",
              "    <tr>\n",
              "      <th>1627</th>\n",
              "      <td>70816</td>\n",
              "      <td>36</td>\n",
              "      <td>206451</td>\n",
              "      <td>0</td>\n",
              "      <td>0</td>\n",
              "      <td>0</td>\n",
              "      <td>Y</td>\n",
              "      <td>Speciale sales acties</td>\n",
              "      <td>variabele prijs</td>\n",
              "      <td>grijze stroom</td>\n",
              "      <td>1-1-2005</td>\n",
              "      <td>11-9-2011</td>\n",
              "      <td>niet verlengd</td>\n",
              "      <td>Laag</td>\n",
              "      <td>Paar zonder kinderen</td>\n",
              "      <td></td>\n",
              "      <td></td>\n",
              "      <td></td>\n",
              "      <td>NaN</td>\n",
              "    </tr>\n",
              "    <tr>\n",
              "      <th>1628</th>\n",
              "      <td>70844</td>\n",
              "      <td>36</td>\n",
              "      <td>297533</td>\n",
              "      <td>31412</td>\n",
              "      <td>320543</td>\n",
              "      <td>108438</td>\n",
              "      <td>Y</td>\n",
              "      <td>Telemarketing</td>\n",
              "      <td>variabele prijs</td>\n",
              "      <td>grijze stroom</td>\n",
              "      <td>30-11-2004</td>\n",
              "      <td>7-6-2013</td>\n",
              "      <td>niet verlengd</td>\n",
              "      <td>Midden</td>\n",
              "      <td>Paar met kinderen</td>\n",
              "      <td>1900 tot 1939</td>\n",
              "      <td>Rijtjeshuis</td>\n",
              "      <td>modaal</td>\n",
              "      <td>Hoog</td>\n",
              "    </tr>\n",
              "    <tr>\n",
              "      <th>1629</th>\n",
              "      <td>70855</td>\n",
              "      <td>36</td>\n",
              "      <td>289684</td>\n",
              "      <td>158936</td>\n",
              "      <td>159063</td>\n",
              "      <td>51936</td>\n",
              "      <td>Y</td>\n",
              "      <td>Speciale sales acties</td>\n",
              "      <td>variabele prijs</td>\n",
              "      <td>grijze stroom</td>\n",
              "      <td>1-12-2004</td>\n",
              "      <td>12-12-2012</td>\n",
              "      <td>niet verlengd</td>\n",
              "      <td>Laag</td>\n",
              "      <td>Paar zonder kinderen</td>\n",
              "      <td></td>\n",
              "      <td></td>\n",
              "      <td></td>\n",
              "      <td>NaN</td>\n",
              "    </tr>\n",
              "    <tr>\n",
              "      <th>4054</th>\n",
              "      <td>225964</td>\n",
              "      <td>36</td>\n",
              "      <td>265403</td>\n",
              "      <td>197040</td>\n",
              "      <td>266908</td>\n",
              "      <td>90207</td>\n",
              "      <td>Y</td>\n",
              "      <td>Speciale sales acties</td>\n",
              "      <td>variabele prijs</td>\n",
              "      <td>grijze stroom</td>\n",
              "      <td>29-12-2006</td>\n",
              "      <td>10-6-2013</td>\n",
              "      <td>niet verlengd</td>\n",
              "      <td>Laag</td>\n",
              "      <td>Paar zonder kinderen</td>\n",
              "      <td></td>\n",
              "      <td></td>\n",
              "      <td></td>\n",
              "      <td>Midden</td>\n",
              "    </tr>\n",
              "  </tbody>\n",
              "</table>\n",
              "</div>"
            ],
            "text/plain": [
              "      klantnr  huidig_contractduur  ...   inkomen opleiding\n",
              "1622    70645                   36  ...                 NaN\n",
              "1625    70663                   12  ...  Onbekend      Laag\n",
              "1627    70816                   36  ...                 NaN\n",
              "1628    70844                   36  ...    modaal      Hoog\n",
              "1629    70855                   36  ...                 NaN\n",
              "4054   225964                   36  ...              Midden\n",
              "\n",
              "[6 rows x 19 columns]"
            ]
          },
          "metadata": {
            "tags": []
          },
          "execution_count": 38
        }
      ]
    },
    {
      "cell_type": "markdown",
      "metadata": {
        "id": "5N7aKLpH9Qvi",
        "colab_type": "text"
      },
      "source": [
        "Did you find an explanation in the in the examples above? If not, this could indicate a data quality issue. It's best to contact a person with domain expertise or the person who provided you the data."
      ]
    },
    {
      "cell_type": "markdown",
      "metadata": {
        "id": "uTB9Ehg89Qvi",
        "colab_type": "text"
      },
      "source": [
        "Statistics like min, mean, max and standard deviation are a good start for understanding how a numerical variable is distributed. However, a visualization can help us even more. A common way to visualize the distribution of a numerical variable is with a *histogram*."
      ]
    },
    {
      "cell_type": "code",
      "metadata": {
        "id": "-4ER_ade9Qvi",
        "colab_type": "code",
        "colab": {
          "base_uri": "https://localhost:8080/",
          "height": 0
        },
        "outputId": "e42a975a-6d52-4ce7-9a29-02e913dd4f72"
      },
      "source": [
        "verbruikGas = df['VERBRUIKGAS']\n",
        "verbruikGas.plot(kind='hist')"
      ],
      "execution_count": 39,
      "outputs": [
        {
          "output_type": "execute_result",
          "data": {
            "text/plain": [
              "<matplotlib.axes._subplots.AxesSubplot at 0x7fc146b82c50>"
            ]
          },
          "metadata": {
            "tags": []
          },
          "execution_count": 39
        },
        {
          "output_type": "display_data",
          "data": {
            "image/png": "[encoded data removed]",
            "text/plain": [
              "<Figure size 432x288 with 1 Axes>"
            ]
          },
          "metadata": {
            "tags": [],
            "needs_background": "light"
          }
        }
      ]
    },
    {
      "cell_type": "markdown",
      "metadata": {
        "id": "zHaVeGOu9Qvk",
        "colab_type": "text"
      },
      "source": [
        "Well that did not help us at all. A histogram groups values into 'bins'. Almost all values are being pushed into 1 bin because of the outliers (=the extreme values).  \n",
        "Let's first try to fix this by using more bins."
      ]
    },
    {
      "cell_type": "code",
      "metadata": {
        "id": "6LE5N-Bc9Qvk",
        "colab_type": "code",
        "colab": {
          "base_uri": "https://localhost:8080/",
          "height": 0
        },
        "outputId": "2fa59190-0bd6-49e1-dbd1-728883e656d2"
      },
      "source": [
        "verbruikGas.plot(kind='hist', bins = 1000)"
      ],
      "execution_count": 40,
      "outputs": [
        {
          "output_type": "execute_result",
          "data": {
            "text/plain": [
              "<matplotlib.axes._subplots.AxesSubplot at 0x7fc14667e4e0>"
            ]
          },
          "metadata": {
            "tags": []
          },
          "execution_count": 40
        },
        {
          "output_type": "display_data",
          "data": {
            "image/png": "[encoded data removed]",
            "text/plain": [
              "<Figure size 432x288 with 1 Axes>"
            ]
          },
          "metadata": {
            "tags": [],
            "needs_background": "light"
          }
        }
      ]
    },
    {
      "cell_type": "markdown",
      "metadata": {
        "id": "RpE8o7ZG9Qvl",
        "colab_type": "text"
      },
      "source": [
        "We are starting to see a distribution. We will have to leave out the extreme values to be able to zoom in on the left part of the plot."
      ]
    },
    {
      "cell_type": "code",
      "metadata": {
        "id": "6W-tfCoJ9Qvm",
        "colab_type": "code",
        "colab": {
          "base_uri": "https://localhost:8080/",
          "height": 0
        },
        "outputId": "bc5d121c-c0f9-4647-8d1f-94d9f92a3773"
      },
      "source": [
        "verbruikGas[verbruikGas < 10000].plot(kind='hist', bins = 100)"
      ],
      "execution_count": 41,
      "outputs": [
        {
          "output_type": "execute_result",
          "data": {
            "text/plain": [
              "<matplotlib.axes._subplots.AxesSubplot at 0x7fc146641940>"
            ]
          },
          "metadata": {
            "tags": []
          },
          "execution_count": 41
        },
        {
          "output_type": "display_data",
          "data": {
            "image/png": "[encoded data removed]",
            "text/plain": [
              "<Figure size 432x288 with 1 Axes>"
            ]
          },
          "metadata": {
            "tags": [],
            "needs_background": "light"
          }
        }
      ]
    },
    {
      "cell_type": "markdown",
      "metadata": {
        "id": "ZvGGmH349Qvn",
        "colab_type": "text"
      },
      "source": [
        "Now we see the distribution more clearly. What are some interesting insights that we can extract from this?\n",
        "- We see a decent amount of customers actually don't have any gas consumption at all. This makes sense because some customers only use electricity.\n",
        "- We see another peak at roughly 1800. Most of the customers seem to have a value around this peak. This part looks similar to a normal distribution. That makes sense. \n",
        "- We see a very long tail behind the normal distribution. It would be interesting to understand why such a tail exists. = What causes some customers to consume so much more gas than 'normal'?"
      ]
    },
    {
      "cell_type": "markdown",
      "metadata": {
        "id": "nXwzK7bK9Qvn",
        "colab_type": "text"
      },
      "source": [
        "We did leave out some customers (=rows) in the previous plot. It's best to check how many we left out. "
      ]
    },
    {
      "cell_type": "code",
      "metadata": {
        "id": "cE3W59is9Qvo",
        "colab_type": "code",
        "colab": {
          "base_uri": "https://localhost:8080/",
          "height": 0
        },
        "outputId": "77be6c7a-66bb-4ff5-86de-61988d12759f"
      },
      "source": [
        "(verbruikGas < 10000).value_counts() / verbruikGas.count()"
      ],
      "execution_count": 42,
      "outputs": [
        {
          "output_type": "execute_result",
          "data": {
            "text/plain": [
              "True     0.988228\n",
              "False    0.011772\n",
              "Name: VERBRUIKGAS, dtype: float64"
            ]
          },
          "metadata": {
            "tags": []
          },
          "execution_count": 42
        }
      ]
    },
    {
      "cell_type": "markdown",
      "metadata": {
        "id": "z37quNlr9Qvq",
        "colab_type": "text"
      },
      "source": [
        "We only left out ~1.2% of the customers. That means the above plot is a useful representation. We just sliced off the tail on the right that represented 1.2% of the remaining customers."
      ]
    },
    {
      "cell_type": "markdown",
      "metadata": {
        "id": "b35LYraP9Qvq",
        "colab_type": "text"
      },
      "source": [
        "Another popular plot for showing the distribution of a numerical variable is a **box plot**\n",
        "A box shows the min. lower quartile, median, upper quartile, max value and outliers."
      ]
    },
    {
      "cell_type": "markdown",
      "metadata": {
        "id": "ThFcp5a49Qvq",
        "colab_type": "text"
      },
      "source": [
        "![](https://naysan.ca/wp-content/uploads/2020/06/box_plot_ref_needed.png)"
      ]
    },
    {
      "cell_type": "code",
      "metadata": {
        "id": "lLYowE_V9Qvq",
        "colab_type": "code",
        "colab": {
          "base_uri": "https://localhost:8080/",
          "height": 0
        },
        "outputId": "794df975-8ce0-4403-da6a-a9ce1d258ba2"
      },
      "source": [
        "verbruikGas[verbruikGas < 10000].plot(kind='box')"
      ],
      "execution_count": 43,
      "outputs": [
        {
          "output_type": "execute_result",
          "data": {
            "text/plain": [
              "<matplotlib.axes._subplots.AxesSubplot at 0x7fc145a04588>"
            ]
          },
          "metadata": {
            "tags": []
          },
          "execution_count": 43
        },
        {
          "output_type": "display_data",
          "data": {
            "image/png": "[encoded data removed]",
            "text/plain": [
              "<Figure size 432x288 with 1 Axes>"
            ]
          },
          "metadata": {
            "tags": [],
            "needs_background": "light"
          }
        }
      ]
    },
    {
      "cell_type": "markdown",
      "metadata": {
        "id": "ddcCD45d9Qvs",
        "colab_type": "text"
      },
      "source": [
        "If we did not filter out a large part of the outliers, this particular box plot would only show that we have a lot of high outliers."
      ]
    },
    {
      "cell_type": "code",
      "metadata": {
        "id": "zQh0yO9y9Qvs",
        "colab_type": "code",
        "colab": {
          "base_uri": "https://localhost:8080/",
          "height": 0
        },
        "outputId": "832b9a84-c50f-415b-881d-ddfe1af01b7c"
      },
      "source": [
        "verbruikGas.plot(kind='box')"
      ],
      "execution_count": 44,
      "outputs": [
        {
          "output_type": "execute_result",
          "data": {
            "text/plain": [
              "<matplotlib.axes._subplots.AxesSubplot at 0x7fc1446fdbe0>"
            ]
          },
          "metadata": {
            "tags": []
          },
          "execution_count": 44
        },
        {
          "output_type": "display_data",
          "data": {
            "image/png": "[encoded data removed]",
            "text/plain": [
              "<Figure size 432x288 with 1 Axes>"
            ]
          },
          "metadata": {
            "tags": [],
            "needs_background": "light"
          }
        }
      ]
    },
    {
      "cell_type": "markdown",
      "metadata": {
        "id": "3Y7XFJvl9Qvu",
        "colab_type": "text"
      },
      "source": [
        "This should help you get started with doing a univariate analysis for numerical and categorical data in any dataset. "
      ]
    },
    {
      "cell_type": "markdown",
      "metadata": {
        "id": "e5dlbW6r9Qvu",
        "colab_type": "text"
      },
      "source": [
        "There's one last univariate question that we should address. In the beginning we assumed that each row represents 1 customer.\n",
        "It's best to validate this immediately. If each row represents a customer then each row should have a unique customer id. Let's check if that's true."
      ]
    },
    {
      "cell_type": "code",
      "metadata": {
        "id": "euNAjMEz9Qvu",
        "colab_type": "code",
        "colab": {
          "base_uri": "https://localhost:8080/",
          "height": 0
        },
        "outputId": "ea2fed72-6353-48a9-cdfc-a14c69f59ff5"
      },
      "source": [
        "print( len(df) ) # Number of rows\n",
        "print( len(df['klantnr'].unique()) ) #Number of unique customer ids"
      ],
      "execution_count": 45,
      "outputs": [
        {
          "output_type": "stream",
          "text": [
            "9939\n",
            "9939\n"
          ],
          "name": "stdout"
        }
      ]
    },
    {
      "cell_type": "markdown",
      "metadata": {
        "id": "olPK0vk-9Qvw",
        "colab_type": "text"
      },
      "source": [
        "Perfect. Let's move on to bivariate analysis."
      ]
    },
    {
      "cell_type": "markdown",
      "metadata": {
        "id": "A4MGsk3i9Qvw",
        "colab_type": "text"
      },
      "source": [
        "## Bivariate analysis"
      ]
    },
    {
      "cell_type": "markdown",
      "metadata": {
        "id": "qrlL3Fl59Qvw",
        "colab_type": "text"
      },
      "source": [
        "In Bivariate analysis we look at the relation between two columns. The way we can look at this relation depends on the type of data of the two columns."
      ]
    },
    {
      "cell_type": "markdown",
      "metadata": {
        "id": "xlwvV8Zv9Qvx",
        "colab_type": "text"
      },
      "source": [
        "Numerical vs numerical.\n",
        "- Scatterplot\n",
        "- Pearson correlation\n",
        "\n",
        "Nummerical vs categorical\n",
        "- Confidence intervals\n",
        "\n",
        "Categorical vs categorical\n",
        "- Contingency table\n",
        "- Chi-squared test"
      ]
    },
    {
      "cell_type": "markdown",
      "metadata": {
        "id": "N0Tuu6Mt9Qvx",
        "colab_type": "text"
      },
      "source": [
        "Let's start with a **numerical vs numerical** bivariate analysis: VERBRUIKHOOG and VERBRUIKLAAG.  \n",
        "First let's do a short univate analysis of each of these columns. "
      ]
    },
    {
      "cell_type": "code",
      "metadata": {
        "id": "60iv-uAI9Qvx",
        "colab_type": "code",
        "colab": {
          "base_uri": "https://localhost:8080/",
          "height": 0
        },
        "outputId": "ee6145cc-800e-4198-bdef-7fc70bc5625f"
      },
      "source": [
        "columns = ['VERBRUIKHOOG', 'VERBRUIKLAAG']\n",
        "verbruik = df[columns]\n",
        "verbruik.describe()"
      ],
      "execution_count": 46,
      "outputs": [
        {
          "output_type": "execute_result",
          "data": {
            "text/html": [
              "<div>\n",
              "<style scoped>\n",
              "    .dataframe tbody tr th:only-of-type {\n",
              "        vertical-align: middle;\n",
              "    }\n",
              "\n",
              "    .dataframe tbody tr th {\n",
              "        vertical-align: top;\n",
              "    }\n",
              "\n",
              "    .dataframe thead th {\n",
              "        text-align: right;\n",
              "    }\n",
              "</style>\n",
              "<table border=\"1\" class=\"dataframe\">\n",
              "  <thead>\n",
              "    <tr style=\"text-align: right;\">\n",
              "      <th></th>\n",
              "      <th>VERBRUIKHOOG</th>\n",
              "      <th>VERBRUIKLAAG</th>\n",
              "    </tr>\n",
              "  </thead>\n",
              "  <tbody>\n",
              "    <tr>\n",
              "      <th>count</th>\n",
              "      <td>9939.000000</td>\n",
              "      <td>9939.000000</td>\n",
              "    </tr>\n",
              "    <tr>\n",
              "      <th>mean</th>\n",
              "      <td>2054.228594</td>\n",
              "      <td>1472.965993</td>\n",
              "    </tr>\n",
              "    <tr>\n",
              "      <th>std</th>\n",
              "      <td>6954.839109</td>\n",
              "      <td>3798.071775</td>\n",
              "    </tr>\n",
              "    <tr>\n",
              "      <th>min</th>\n",
              "      <td>0.000000</td>\n",
              "      <td>0.000000</td>\n",
              "    </tr>\n",
              "    <tr>\n",
              "      <th>25%</th>\n",
              "      <td>0.000000</td>\n",
              "      <td>0.000000</td>\n",
              "    </tr>\n",
              "    <tr>\n",
              "      <th>50%</th>\n",
              "      <td>1237.000000</td>\n",
              "      <td>0.000000</td>\n",
              "    </tr>\n",
              "    <tr>\n",
              "      <th>75%</th>\n",
              "      <td>2547.000000</td>\n",
              "      <td>2148.000000</td>\n",
              "    </tr>\n",
              "    <tr>\n",
              "      <th>max</th>\n",
              "      <td>320543.000000</td>\n",
              "      <td>124267.000000</td>\n",
              "    </tr>\n",
              "  </tbody>\n",
              "</table>\n",
              "</div>"
            ],
            "text/plain": [
              "        VERBRUIKHOOG   VERBRUIKLAAG\n",
              "count    9939.000000    9939.000000\n",
              "mean     2054.228594    1472.965993\n",
              "std      6954.839109    3798.071775\n",
              "min         0.000000       0.000000\n",
              "25%         0.000000       0.000000\n",
              "50%      1237.000000       0.000000\n",
              "75%      2547.000000    2148.000000\n",
              "max    320543.000000  124267.000000"
            ]
          },
          "metadata": {
            "tags": []
          },
          "execution_count": 46
        }
      ]
    },
    {
      "cell_type": "markdown",
      "metadata": {
        "id": "Ni19Mb5L9Qvz",
        "colab_type": "text"
      },
      "source": [
        "We see that these two columns are very large outliers, just like VERBRUIKGAS. "
      ]
    },
    {
      "cell_type": "markdown",
      "metadata": {
        "id": "OozETHXz9Qvz",
        "colab_type": "text"
      },
      "source": [
        "A popular way to visualize the relation between two numerical variables is with a **scatter plot**"
      ]
    },
    {
      "cell_type": "code",
      "metadata": {
        "id": "glg1igdB9Qvz",
        "colab_type": "code",
        "colab": {
          "base_uri": "https://localhost:8080/",
          "height": 0
        },
        "outputId": "cf6103b2-10f4-4896-9dbf-7d0af440ce80"
      },
      "source": [
        "verbruik.plot(kind='scatter', x='VERBRUIKHOOG', y='VERBRUIKLAAG')"
      ],
      "execution_count": 47,
      "outputs": [
        {
          "output_type": "execute_result",
          "data": {
            "text/plain": [
              "<matplotlib.axes._subplots.AxesSubplot at 0x7fc14471d898>"
            ]
          },
          "metadata": {
            "tags": []
          },
          "execution_count": 47
        },
        {
          "output_type": "display_data",
          "data": {
            "image/png": "[encoded data removed]",
            "text/plain": [
              "<Figure size 432x288 with 1 Axes>"
            ]
          },
          "metadata": {
            "tags": [],
            "needs_background": "light"
          }
        }
      ]
    },
    {
      "cell_type": "markdown",
      "metadata": {
        "id": "q3AKp-d99Qv1",
        "colab_type": "text"
      },
      "source": [
        "Most data points are smashed together in the bottom left corner because of the outliers. Let's try a scatter plot without the outliers."
      ]
    },
    {
      "cell_type": "code",
      "metadata": {
        "id": "29rRHIdi9Qv1",
        "colab_type": "code",
        "colab": {
          "base_uri": "https://localhost:8080/",
          "height": 0
        },
        "outputId": "5995569f-a61f-417a-ed37-143291db0d18"
      },
      "source": [
        "outlierFilter = (verbruik['VERBRUIKHOOG'] < 10000) & (verbruik['VERBRUIKLAAG'] < 10000)\n",
        "verbruik[outlierFilter].plot(kind='scatter', x='VERBRUIKHOOG', y='VERBRUIKLAAG')"
      ],
      "execution_count": 48,
      "outputs": [
        {
          "output_type": "execute_result",
          "data": {
            "text/plain": [
              "<matplotlib.axes._subplots.AxesSubplot at 0x7fc14465d470>"
            ]
          },
          "metadata": {
            "tags": []
          },
          "execution_count": 48
        },
        {
          "output_type": "display_data",
          "data": {
            "image/png": "[encoded data removed]",
            "text/plain": [
              "<Figure size 432x288 with 1 Axes>"
            ]
          },
          "metadata": {
            "tags": [],
            "needs_background": "light"
          }
        }
      ]
    },
    {
      "cell_type": "markdown",
      "metadata": {
        "id": "EmEEdaVv9Qv2",
        "colab_type": "text"
      },
      "source": [
        "There are a couple of interesting observations here\n",
        "- Many of the dots seem to be clustered around (2000,2000)\n",
        "- There seems to be a linear relation between the two variables.\n",
        "- There are also customers that only have a value for one of the two columns. "
      ]
    },
    {
      "cell_type": "markdown",
      "metadata": {
        "id": "o054pW1x9Qv3",
        "colab_type": "text"
      },
      "source": [
        "A popular statistics for calculating the bivariate relation between two variable is the **Pearson correlation**.  \n",
        "The Pearson correlation measures the lineair relation between two numerical variables. The result is a number between -1 and 1 where\n",
        "- -1 indicates a perfect negative linear relation\n",
        "- 0 indicates that there is no linear relation\n",
        "- 1 indicates a perfect positive linear relation"
      ]
    },
    {
      "cell_type": "markdown",
      "metadata": {
        "id": "YCslPsbC9Qv3",
        "colab_type": "text"
      },
      "source": [
        "![](https://cdn1.byjus.com/wp-content/uploads/2019/06/word-image28.png \"Pearson correlation formula\")"
      ]
    },
    {
      "cell_type": "markdown",
      "metadata": {
        "id": "Veh7tFga9Qv4",
        "colab_type": "text"
      },
      "source": [
        "\n",
        "![](https://www.spss-tutorials.com/img/correlation-coefficient-multiple-scatterplots.png \"Pearson correlation examples\")"
      ]
    },
    {
      "cell_type": "markdown",
      "metadata": {
        "id": "F906yTPC9Qv4",
        "colab_type": "text"
      },
      "source": [
        "Let's calculate the pearson correlation for our two columns."
      ]
    },
    {
      "cell_type": "code",
      "metadata": {
        "id": "NKmLtaoA9Qv5",
        "colab_type": "code",
        "colab": {
          "base_uri": "https://localhost:8080/",
          "height": 0
        },
        "outputId": "93f9c2ff-d2e5-49e4-91b0-0a8ecae2a4ca"
      },
      "source": [
        "verbruik.corr()"
      ],
      "execution_count": 49,
      "outputs": [
        {
          "output_type": "execute_result",
          "data": {
            "text/html": [
              "<div>\n",
              "<style scoped>\n",
              "    .dataframe tbody tr th:only-of-type {\n",
              "        vertical-align: middle;\n",
              "    }\n",
              "\n",
              "    .dataframe tbody tr th {\n",
              "        vertical-align: top;\n",
              "    }\n",
              "\n",
              "    .dataframe thead th {\n",
              "        text-align: right;\n",
              "    }\n",
              "</style>\n",
              "<table border=\"1\" class=\"dataframe\">\n",
              "  <thead>\n",
              "    <tr style=\"text-align: right;\">\n",
              "      <th></th>\n",
              "      <th>VERBRUIKHOOG</th>\n",
              "      <th>VERBRUIKLAAG</th>\n",
              "    </tr>\n",
              "  </thead>\n",
              "  <tbody>\n",
              "    <tr>\n",
              "      <th>VERBRUIKHOOG</th>\n",
              "      <td>1.000000</td>\n",
              "      <td>0.807309</td>\n",
              "    </tr>\n",
              "    <tr>\n",
              "      <th>VERBRUIKLAAG</th>\n",
              "      <td>0.807309</td>\n",
              "      <td>1.000000</td>\n",
              "    </tr>\n",
              "  </tbody>\n",
              "</table>\n",
              "</div>"
            ],
            "text/plain": [
              "              VERBRUIKHOOG  VERBRUIKLAAG\n",
              "VERBRUIKHOOG      1.000000      0.807309\n",
              "VERBRUIKLAAG      0.807309      1.000000"
            ]
          },
          "metadata": {
            "tags": []
          },
          "execution_count": 49
        }
      ]
    },
    {
      "cell_type": "markdown",
      "metadata": {
        "id": "owW0yPjx9Qv7",
        "colab_type": "text"
      },
      "source": [
        "We see that each column has a perfect postive linear retationship with itself, which is always the case.  \n",
        "We also see a high (>0.80) linear relation between our two columns. This makes sense. Is a customer has a high consumption during hours with a high price, then it's likely that they also have a high consumption during hours with a lower price.  "
      ]
    },
    {
      "cell_type": "markdown",
      "metadata": {
        "id": "XxEytt6M9Qv7",
        "colab_type": "text"
      },
      "source": [
        "Why is this useful?  \n",
        "A high correlation between column A and column B means that column A contains information about column B and vice versa. This information can be used to guess missing information. If we don't know VERBRUIKLAAG about a customer, we can make an informed guess based on the information we have about the customer's VERBUIKHOOG. \n",
        "\n",
        "This means we can already build a predictive model based on one bivariate analysis."
      ]
    },
    {
      "cell_type": "markdown",
      "metadata": {
        "id": "Mfmj3tXq9Qv7",
        "colab_type": "text"
      },
      "source": [
        "Now let's look at bivariate analysis for **categorical vs numerical** variables.  \n",
        "We will use the columns VERBRUIKGAS & wervingskanaal. "
      ]
    },
    {
      "cell_type": "code",
      "metadata": {
        "id": "lO3ZmUMz9Qv8",
        "colab_type": "code",
        "colab": {
          "base_uri": "https://localhost:8080/",
          "height": 0
        },
        "outputId": "e06257c6-a6fa-4d93-db6b-02df219f95af"
      },
      "source": [
        "import seaborn as sns\n",
        "sns.barplot(y=\"wervingskanaal\", x=\"VERBRUIKGAS\", data=df);"
      ],
      "execution_count": 50,
      "outputs": [
        {
          "output_type": "stream",
          "text": [
            "/usr/local/lib/python3.6/dist-packages/statsmodels/tools/_testing.py:19: FutureWarning: pandas.util.testing is deprecated. Use the functions in the public API at pandas.testing instead.\n",
            "  import pandas.util.testing as tm\n"
          ],
          "name": "stderr"
        },
        {
          "output_type": "display_data",
          "data": {
            "image/png": "[encoded data removed]",
            "text/plain": [
              "<Figure size 432x288 with 1 Axes>"
            ]
          },
          "metadata": {
            "tags": [],
            "needs_background": "light"
          }
        }
      ]
    },
    {
      "cell_type": "markdown",
      "metadata": {
        "id": "ew9rKnmg9Qv-",
        "colab_type": "text"
      },
      "source": [
        "Seaborn made a special barplot for us. It's also showing confidence intervals for each category, respresented by the black lines. These are very important. Although the colors bars might indicate that the average VERBRUIKGAS is different for certain categories of wervingskanaal, we can not be sure unless we have enough data. The color bar shows us the mean value of VERBRUIKGAS for each category based on the dataset we received, but the black bar shows us the interval where we are confident that the real mean resides. \n",
        "\n",
        "It might be easiest to explain with the following scenario: You and I are are going to roll a 6-sided die. The numerical variable is the value we roll and the categorical variable is who rolled it. We know that in reality the average value of a 6-sided die is 3.5 (=(1+2+3+4+5+6)/6). We know that there is no skill involved, so who rolls the die has no impact on the result. We each roll the die 3 times. "
      ]
    },
    {
      "cell_type": "code",
      "metadata": {
        "id": "LgG0IH319Qv_",
        "colab_type": "code",
        "colab": {
          "base_uri": "https://localhost:8080/",
          "height": 0
        },
        "outputId": "1b0446c5-6499-4b0a-a026-e58365c796e2"
      },
      "source": [
        "diceRolls = pd.DataFrame(data= {'Person': ['you', 'you', 'you', 'me','me','me'], 'Rolls': [6,3,6,2,4,2]})\n",
        "diceRolls"
      ],
      "execution_count": 51,
      "outputs": [
        {
          "output_type": "execute_result",
          "data": {
            "text/html": [
              "<div>\n",
              "<style scoped>\n",
              "    .dataframe tbody tr th:only-of-type {\n",
              "        vertical-align: middle;\n",
              "    }\n",
              "\n",
              "    .dataframe tbody tr th {\n",
              "        vertical-align: top;\n",
              "    }\n",
              "\n",
              "    .dataframe thead th {\n",
              "        text-align: right;\n",
              "    }\n",
              "</style>\n",
              "<table border=\"1\" class=\"dataframe\">\n",
              "  <thead>\n",
              "    <tr style=\"text-align: right;\">\n",
              "      <th></th>\n",
              "      <th>Person</th>\n",
              "      <th>Rolls</th>\n",
              "    </tr>\n",
              "  </thead>\n",
              "  <tbody>\n",
              "    <tr>\n",
              "      <th>0</th>\n",
              "      <td>you</td>\n",
              "      <td>6</td>\n",
              "    </tr>\n",
              "    <tr>\n",
              "      <th>1</th>\n",
              "      <td>you</td>\n",
              "      <td>3</td>\n",
              "    </tr>\n",
              "    <tr>\n",
              "      <th>2</th>\n",
              "      <td>you</td>\n",
              "      <td>6</td>\n",
              "    </tr>\n",
              "    <tr>\n",
              "      <th>3</th>\n",
              "      <td>me</td>\n",
              "      <td>2</td>\n",
              "    </tr>\n",
              "    <tr>\n",
              "      <th>4</th>\n",
              "      <td>me</td>\n",
              "      <td>4</td>\n",
              "    </tr>\n",
              "    <tr>\n",
              "      <th>5</th>\n",
              "      <td>me</td>\n",
              "      <td>2</td>\n",
              "    </tr>\n",
              "  </tbody>\n",
              "</table>\n",
              "</div>"
            ],
            "text/plain": [
              "  Person  Rolls\n",
              "0    you      6\n",
              "1    you      3\n",
              "2    you      6\n",
              "3     me      2\n",
              "4     me      4\n",
              "5     me      2"
            ]
          },
          "metadata": {
            "tags": []
          },
          "execution_count": 51
        }
      ]
    },
    {
      "cell_type": "code",
      "metadata": {
        "id": "jVRYGD_P9QwA",
        "colab_type": "code",
        "colab": {
          "base_uri": "https://localhost:8080/",
          "height": 0
        },
        "outputId": "c2bde3b3-bbfc-415e-df4c-644ddc3e8d85"
      },
      "source": [
        "sns.barplot(y=\"Person\", x=\"Rolls\", data=diceRolls)"
      ],
      "execution_count": 52,
      "outputs": [
        {
          "output_type": "execute_result",
          "data": {
            "text/plain": [
              "<matplotlib.axes._subplots.AxesSubplot at 0x7fc139bc7cc0>"
            ]
          },
          "metadata": {
            "tags": []
          },
          "execution_count": 52
        },
        {
          "output_type": "display_data",
          "data": {
            "image/png": "[encoded data removed]",
            "text/plain": [
              "<Figure size 432x288 with 1 Axes>"
            ]
          },
          "metadata": {
            "tags": [],
            "needs_background": "light"
          }
        }
      ]
    },
    {
      "cell_type": "markdown",
      "metadata": {
        "id": "yFJVmVve9QwB",
        "colab_type": "text"
      },
      "source": [
        "Although the colored bars indicate that your average value is currently higher than mine, the confidence intervals are still large. As long as they overlap, we can not be sure if there's truely a difference. \n",
        "\n",
        "The CI is calculated as follows:"
      ]
    },
    {
      "cell_type": "markdown",
      "metadata": {
        "id": "MBkuTfS69QwC",
        "colab_type": "text"
      },
      "source": [
        "![](https://getcalc.com/formula/statistics/mean-confidence-interval-infinite-population.png)"
      ]
    },
    {
      "cell_type": "markdown",
      "metadata": {
        "id": "uY-8voF49QwC",
        "colab_type": "text"
      },
      "source": [
        "Now we'll look at bivariate analysis for **categorical vs categorical** variables. We'll look at the columns opleiding and inkomen."
      ]
    },
    {
      "cell_type": "code",
      "metadata": {
        "id": "9onGwfR49QwD",
        "colab_type": "code",
        "colab": {
          "base_uri": "https://localhost:8080/",
          "height": 0
        },
        "outputId": "229991c1-4f49-467a-a01b-192d671238a1"
      },
      "source": [
        "df['opleiding'].value_counts().plot(kind='bar')"
      ],
      "execution_count": 53,
      "outputs": [
        {
          "output_type": "execute_result",
          "data": {
            "text/plain": [
              "<matplotlib.axes._subplots.AxesSubplot at 0x7fc139b3d550>"
            ]
          },
          "metadata": {
            "tags": []
          },
          "execution_count": 53
        },
        {
          "output_type": "display_data",
          "data": {
            "image/png": "[encoded data removed]",
            "text/plain": [
              "<Figure size 432x288 with 1 Axes>"
            ]
          },
          "metadata": {
            "tags": [],
            "needs_background": "light"
          }
        }
      ]
    },
    {
      "cell_type": "code",
      "metadata": {
        "id": "0QK8G4lv9QwE",
        "colab_type": "code",
        "colab": {
          "base_uri": "https://localhost:8080/",
          "height": 0
        },
        "outputId": "67d0c448-98f0-40f1-fc06-999e6d20cd7a"
      },
      "source": [
        "df['inkomen'].value_counts().plot(kind='bar')"
      ],
      "execution_count": 54,
      "outputs": [
        {
          "output_type": "execute_result",
          "data": {
            "text/plain": [
              "<matplotlib.axes._subplots.AxesSubplot at 0x7fc139a9af60>"
            ]
          },
          "metadata": {
            "tags": []
          },
          "execution_count": 54
        },
        {
          "output_type": "display_data",
          "data": {
            "image/png": "[encoded data removed]",
            "text/plain": [
              "<Figure size 432x288 with 1 Axes>"
            ]
          },
          "metadata": {
            "tags": [],
            "needs_background": "light"
          }
        }
      ]
    },
    {
      "cell_type": "code",
      "metadata": {
        "id": "iUJGMVIf9QwF",
        "colab_type": "code",
        "colab": {
          "base_uri": "https://localhost:8080/",
          "height": 0
        },
        "outputId": "906262fe-5e86-4a50-9782-3ada545e26e4"
      },
      "source": [
        "import seaborn as sns\n",
        "sns.catplot( x='opleiding',hue='inkomen',  data=df, kind='count')"
      ],
      "execution_count": 55,
      "outputs": [
        {
          "output_type": "execute_result",
          "data": {
            "text/plain": [
              "<seaborn.axisgrid.FacetGrid at 0x7fc139b549b0>"
            ]
          },
          "metadata": {
            "tags": []
          },
          "execution_count": 55
        },
        {
          "output_type": "display_data",
          "data": {
            "image/png": "[encoded data removed]",
            "text/plain": [
              "<Figure size 666.75x360 with 1 Axes>"
            ]
          },
          "metadata": {
            "tags": [],
            "needs_background": "light"
          }
        }
      ]
    },
    {
      "cell_type": "code",
      "metadata": {
        "id": "2IsuiCkB9QwH",
        "colab_type": "code",
        "colab": {
          "base_uri": "https://localhost:8080/",
          "height": 0
        },
        "outputId": "5f343ff3-ed07-4dcb-a53e-27dd02d191eb"
      },
      "source": [
        "from scipy.stats import chi2_contingency\n",
        "contingencyTable = df.groupby(['opleiding','inkomen']).size().unstack('opleiding')\n",
        "contingencyTable"
      ],
      "execution_count": 56,
      "outputs": [
        {
          "output_type": "execute_result",
          "data": {
            "text/html": [
              "<div>\n",
              "<style scoped>\n",
              "    .dataframe tbody tr th:only-of-type {\n",
              "        vertical-align: middle;\n",
              "    }\n",
              "\n",
              "    .dataframe tbody tr th {\n",
              "        vertical-align: top;\n",
              "    }\n",
              "\n",
              "    .dataframe thead th {\n",
              "        text-align: right;\n",
              "    }\n",
              "</style>\n",
              "<table border=\"1\" class=\"dataframe\">\n",
              "  <thead>\n",
              "    <tr style=\"text-align: right;\">\n",
              "      <th>opleiding</th>\n",
              "      <th></th>\n",
              "      <th>Hoog</th>\n",
              "      <th>Laag</th>\n",
              "      <th>Midden</th>\n",
              "    </tr>\n",
              "    <tr>\n",
              "      <th>inkomen</th>\n",
              "      <th></th>\n",
              "      <th></th>\n",
              "      <th></th>\n",
              "      <th></th>\n",
              "    </tr>\n",
              "  </thead>\n",
              "  <tbody>\n",
              "    <tr>\n",
              "      <th></th>\n",
              "      <td>2</td>\n",
              "      <td>92</td>\n",
              "      <td>106</td>\n",
              "      <td>97</td>\n",
              "    </tr>\n",
              "    <tr>\n",
              "      <th>Onbekend</th>\n",
              "      <td>3</td>\n",
              "      <td>1061</td>\n",
              "      <td>1048</td>\n",
              "      <td>1083</td>\n",
              "    </tr>\n",
              "    <tr>\n",
              "      <th>minimum</th>\n",
              "      <td>1</td>\n",
              "      <td>113</td>\n",
              "      <td>101</td>\n",
              "      <td>103</td>\n",
              "    </tr>\n",
              "    <tr>\n",
              "      <th>modaal</th>\n",
              "      <td>1</td>\n",
              "      <td>817</td>\n",
              "      <td>852</td>\n",
              "      <td>868</td>\n",
              "    </tr>\n",
              "    <tr>\n",
              "      <th>tussen modaal en 2 keer modaal</th>\n",
              "      <td>5</td>\n",
              "      <td>704</td>\n",
              "      <td>709</td>\n",
              "      <td>630</td>\n",
              "    </tr>\n",
              "    <tr>\n",
              "      <th>tussen modaal en 2 keer modaal keer modaal of meer</th>\n",
              "      <td>1</td>\n",
              "      <td>154</td>\n",
              "      <td>143</td>\n",
              "      <td>155</td>\n",
              "    </tr>\n",
              "    <tr>\n",
              "      <th>tussen modaal en minimum</th>\n",
              "      <td>2</td>\n",
              "      <td>364</td>\n",
              "      <td>345</td>\n",
              "      <td>355</td>\n",
              "    </tr>\n",
              "  </tbody>\n",
              "</table>\n",
              "</div>"
            ],
            "text/plain": [
              "opleiding                                              Hoog  Laag  Midden\n",
              "inkomen                                                                  \n",
              "                                                    2    92   106      97\n",
              "Onbekend                                            3  1061  1048    1083\n",
              "minimum                                             1   113   101     103\n",
              "modaal                                              1   817   852     868\n",
              "tussen modaal en 2 keer modaal                      5   704   709     630\n",
              "tussen modaal en 2 keer modaal keer modaal of meer  1   154   143     155\n",
              "tussen modaal en minimum                            2   364   345     355"
            ]
          },
          "metadata": {
            "tags": []
          },
          "execution_count": 56
        }
      ]
    },
    {
      "cell_type": "code",
      "metadata": {
        "id": "a2zrdTAZ9QwI",
        "colab_type": "code",
        "colab": {
          "base_uri": "https://localhost:8080/",
          "height": 0
        },
        "outputId": "eb561957-d4e3-41c2-97bf-ce5526aa1738"
      },
      "source": [
        "chi2_contingency(contingencyTable)"
      ],
      "execution_count": 57,
      "outputs": [
        {
          "output_type": "execute_result",
          "data": {
            "text/plain": [
              "(20.934560883795083,\n",
              " 0.282727382472035,\n",
              " 18,\n",
              " array([[4.49319213e-01, 9.90000000e+01, 9.89700454e+01, 9.85806354e+01],\n",
              "        [4.83358548e+00, 1.06500000e+03, 1.06467776e+03, 1.06048865e+03],\n",
              "        [4.81089259e-01, 1.06000000e+02, 1.05967927e+02, 1.05550983e+02],\n",
              "        [3.83963691e+00, 8.46000000e+02, 8.45744024e+02, 8.42416339e+02],\n",
              "        [3.09833585e+00, 6.82666667e+02, 6.82460111e+02, 6.79774887e+02],\n",
              "        [6.85325265e-01, 1.51000000e+02, 1.50954312e+02, 1.50360363e+02],\n",
              "        [1.61270802e+00, 3.55333333e+02, 3.55225819e+02, 3.53828139e+02]]))"
            ]
          },
          "metadata": {
            "tags": []
          },
          "execution_count": 57
        }
      ]
    },
    {
      "cell_type": "markdown",
      "metadata": {
        "id": "YgtFvjzN9QwJ",
        "colab_type": "text"
      },
      "source": [
        "The results indicate that there's a 28% chance of there being no relationship between the two categorical variables. In statistics this value has to be lower than 5% in order to assume that there's actually a relationelship between the two categorical variables. "
      ]
    },
    {
      "cell_type": "markdown",
      "metadata": {
        "id": "TjWF6WZZ9QwJ",
        "colab_type": "text"
      },
      "source": [
        "![](https://miro.medium.com/max/532/1*S8rfFkmLhDbOz4RGNwuz6g.png)"
      ]
    },
    {
      "cell_type": "code",
      "metadata": {
        "id": "W36hkWzo9QwJ",
        "colab_type": "code",
        "colab": {
          "base_uri": "https://localhost:8080/",
          "height": 0
        },
        "outputId": "7609660e-7ca2-4685-fa6e-2abc7dabebe8"
      },
      "source": [
        "catData = pd.DataFrame(data= {'Category1': ['a','a','a','b','b','b','c','c','c'], 'Category2': ['x','x','x','y','y','y','z','z','z']})\n",
        "catData"
      ],
      "execution_count": 58,
      "outputs": [
        {
          "output_type": "execute_result",
          "data": {
            "text/html": [
              "<div>\n",
              "<style scoped>\n",
              "    .dataframe tbody tr th:only-of-type {\n",
              "        vertical-align: middle;\n",
              "    }\n",
              "\n",
              "    .dataframe tbody tr th {\n",
              "        vertical-align: top;\n",
              "    }\n",
              "\n",
              "    .dataframe thead th {\n",
              "        text-align: right;\n",
              "    }\n",
              "</style>\n",
              "<table border=\"1\" class=\"dataframe\">\n",
              "  <thead>\n",
              "    <tr style=\"text-align: right;\">\n",
              "      <th></th>\n",
              "      <th>Category1</th>\n",
              "      <th>Category2</th>\n",
              "    </tr>\n",
              "  </thead>\n",
              "  <tbody>\n",
              "    <tr>\n",
              "      <th>0</th>\n",
              "      <td>a</td>\n",
              "      <td>x</td>\n",
              "    </tr>\n",
              "    <tr>\n",
              "      <th>1</th>\n",
              "      <td>a</td>\n",
              "      <td>x</td>\n",
              "    </tr>\n",
              "    <tr>\n",
              "      <th>2</th>\n",
              "      <td>a</td>\n",
              "      <td>x</td>\n",
              "    </tr>\n",
              "    <tr>\n",
              "      <th>3</th>\n",
              "      <td>b</td>\n",
              "      <td>y</td>\n",
              "    </tr>\n",
              "    <tr>\n",
              "      <th>4</th>\n",
              "      <td>b</td>\n",
              "      <td>y</td>\n",
              "    </tr>\n",
              "    <tr>\n",
              "      <th>5</th>\n",
              "      <td>b</td>\n",
              "      <td>y</td>\n",
              "    </tr>\n",
              "    <tr>\n",
              "      <th>6</th>\n",
              "      <td>c</td>\n",
              "      <td>z</td>\n",
              "    </tr>\n",
              "    <tr>\n",
              "      <th>7</th>\n",
              "      <td>c</td>\n",
              "      <td>z</td>\n",
              "    </tr>\n",
              "    <tr>\n",
              "      <th>8</th>\n",
              "      <td>c</td>\n",
              "      <td>z</td>\n",
              "    </tr>\n",
              "  </tbody>\n",
              "</table>\n",
              "</div>"
            ],
            "text/plain": [
              "  Category1 Category2\n",
              "0         a         x\n",
              "1         a         x\n",
              "2         a         x\n",
              "3         b         y\n",
              "4         b         y\n",
              "5         b         y\n",
              "6         c         z\n",
              "7         c         z\n",
              "8         c         z"
            ]
          },
          "metadata": {
            "tags": []
          },
          "execution_count": 58
        }
      ]
    },
    {
      "cell_type": "code",
      "metadata": {
        "id": "Eg2aI5o39QwL",
        "colab_type": "code",
        "colab": {
          "base_uri": "https://localhost:8080/",
          "height": 0
        },
        "outputId": "e25cf5be-bd37-44e5-ce7d-182c1219d379"
      },
      "source": [
        "contigencyTable2 = catData.groupby(['Category1','Category2']).size().unstack('Category1').fillna(0)\n",
        "contigencyTable2"
      ],
      "execution_count": 59,
      "outputs": [
        {
          "output_type": "execute_result",
          "data": {
            "text/html": [
              "<div>\n",
              "<style scoped>\n",
              "    .dataframe tbody tr th:only-of-type {\n",
              "        vertical-align: middle;\n",
              "    }\n",
              "\n",
              "    .dataframe tbody tr th {\n",
              "        vertical-align: top;\n",
              "    }\n",
              "\n",
              "    .dataframe thead th {\n",
              "        text-align: right;\n",
              "    }\n",
              "</style>\n",
              "<table border=\"1\" class=\"dataframe\">\n",
              "  <thead>\n",
              "    <tr style=\"text-align: right;\">\n",
              "      <th>Category1</th>\n",
              "      <th>a</th>\n",
              "      <th>b</th>\n",
              "      <th>c</th>\n",
              "    </tr>\n",
              "    <tr>\n",
              "      <th>Category2</th>\n",
              "      <th></th>\n",
              "      <th></th>\n",
              "      <th></th>\n",
              "    </tr>\n",
              "  </thead>\n",
              "  <tbody>\n",
              "    <tr>\n",
              "      <th>x</th>\n",
              "      <td>3.0</td>\n",
              "      <td>0.0</td>\n",
              "      <td>0.0</td>\n",
              "    </tr>\n",
              "    <tr>\n",
              "      <th>y</th>\n",
              "      <td>0.0</td>\n",
              "      <td>3.0</td>\n",
              "      <td>0.0</td>\n",
              "    </tr>\n",
              "    <tr>\n",
              "      <th>z</th>\n",
              "      <td>0.0</td>\n",
              "      <td>0.0</td>\n",
              "      <td>3.0</td>\n",
              "    </tr>\n",
              "  </tbody>\n",
              "</table>\n",
              "</div>"
            ],
            "text/plain": [
              "Category1    a    b    c\n",
              "Category2               \n",
              "x          3.0  0.0  0.0\n",
              "y          0.0  3.0  0.0\n",
              "z          0.0  0.0  3.0"
            ]
          },
          "metadata": {
            "tags": []
          },
          "execution_count": 59
        }
      ]
    },
    {
      "cell_type": "code",
      "metadata": {
        "id": "OOqqQHLP9QwN",
        "colab_type": "code",
        "colab": {
          "base_uri": "https://localhost:8080/",
          "height": 0
        },
        "outputId": "84a6476b-9655-487d-ebf2-1185b0bbc91b"
      },
      "source": [
        "chi2_contingency(contigencyTable2)"
      ],
      "execution_count": 60,
      "outputs": [
        {
          "output_type": "execute_result",
          "data": {
            "text/plain": [
              "(18.0, 0.0012340980408667957, 4, array([[1., 1., 1.],\n",
              "        [1., 1., 1.],\n",
              "        [1., 1., 1.]]))"
            ]
          },
          "metadata": {
            "tags": []
          },
          "execution_count": 60
        }
      ]
    },
    {
      "cell_type": "markdown",
      "metadata": {
        "id": "G6QthF2B9QwO",
        "colab_type": "text"
      },
      "source": [
        "## Multivariate analysis\n",
        "\n",
        "In multivariate analysis we look at the relation between more than two columns. There are many multivariate techniques. Many Machine Learning models are actually multivariate techniques. This topic is out of scope for this workshop."
      ]
    },
    {
      "cell_type": "markdown",
      "metadata": {
        "id": "lcGV6TNT9QwP",
        "colab_type": "text"
      },
      "source": [
        "# Task\n",
        "Do the following for your group project and/or the Titanic case:\n",
        "- Create a list of important questions\n",
        "- Answer these questions by exploring the data with Pandas, Seaborn, etc.\n",
        "- Present (a summary of) your results at the end of the day"
      ]
    },
    {
      "cell_type": "code",
      "metadata": {
        "id": "T4wtzplM9QwQ",
        "colab_type": "code",
        "colab": {}
      },
      "source": [
        ""
      ],
      "execution_count": 60,
      "outputs": []
    }
  ]
}