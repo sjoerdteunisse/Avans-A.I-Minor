{
 "cells": [
  {
   "cell_type": "markdown",
   "metadata": {},
   "source": [
    "# Hands-on 4: Linear regression in practice\n",
    "\n",
    "In practice you're only concerned with getting the job done, not interested in the methode use, performing a regression with as little effort as possible. That's the goal of this hands-on.\n",
    "\n",
    "We'll perform a univariate linear regression and a multivariate linear regression using the same training datasets as before."
   ]
  },
  {
   "cell_type": "code",
   "execution_count": null,
   "metadata": {},
   "outputs": [],
   "source": [
    "import numpy as np\n",
    "import matplotlib.pyplot as plt\n",
    "import pandas as pd\n",
    "\n",
    "# read the training set\n",
    "data = pd.read_csv(\"ex1data1.txt\", header=None)  # read from dataset into Pandas DataFrame variable\n",
    "data.head()  # view first few rows of the data\n",
    "X = data.iloc[:, 0]  # read first column; upper case for matrix\n",
    "y = data.iloc[:, 1]  # read second column; lower case for vector\n",
    "m = len(y)  # number of training samples; lower case for scalar\n",
    "X = np.array(X).reshape(-1, 1)  # transform to format that sklearn expects\n",
    "\n",
    "# perform the regression\n",
    "from sklearn import linear_model\n",
    "regr = linear_model.LinearRegression()\n",
    "regr.fit(X, y)\n",
    "\n",
    "# the theta's\n",
    "print('theta_0', regr.intercept_, 'theta_1', regr.coef_)\n",
    "\n",
    "# perform prediction on the complete training set\n",
    "pred = regr.predict(X)\n",
    "\n",
    "# visualize how the model fits the training data\n",
    "plt.scatter(X, y)\n",
    "plt.plot(X, pred, color=\"r\")\n",
    "plt.xlabel('Population of City in 10,000s')\n",
    "plt.ylabel('Profit in $10,000s')\n",
    "plt.title('Profit as a function of city population')\n",
    "plt.show()"
   ]
  },
  {
   "cell_type": "markdown",
   "metadata": {},
   "source": [
    "Note that the theta's are about equal to the ones of hands-on 1, univariate linear regression. Some confirmation that our own coding effort does not contain obvious errors.\n",
    "\n",
    "Now we're going to do the multivariate linear regression."
   ]
  },
  {
   "cell_type": "code",
   "execution_count": null,
   "metadata": {},
   "outputs": [],
   "source": [
    "import numpy as np\n",
    "import matplotlib.pyplot as plt\n",
    "import pandas as pd\n",
    "\n",
    "# read the training set\n",
    "data = pd.read_csv('ex1data2.txt', sep=',', header=None)\n",
    "data.head()  # view first few rows of the data\n",
    "X = data.iloc[:, 0:2]  # read first two columns into X; in from:to the to is not included\n",
    "y = data.iloc[:, 2]  # read the third column into y\n",
    "m = len(y)  # number of training samples\n",
    "\n",
    "# perform the regression\n",
    "from sklearn import linear_model\n",
    "regr = linear_model.LinearRegression(normalize=True)\n",
    "regr.fit(X, y)\n",
    "pred = regr.predict(X)\n",
    "\n",
    "# the theta's\n",
    "print('theta_0', regr.intercept_, 'theta_1 and theta_2', regr.coef_)\n",
    "\n",
    "# use the result of learning to predict the house value\n",
    "# no need to perform feature normalization ourselves; the sklearn regressor will do this for us\"\n",
    "x_input = np.array([1650, 3]).reshape(1, -1)  # predict for size of house = 1650, #bedrooms = 3\n",
    "predict = regr.predict(x_input)\n",
    "print(\"For size of house = 1650, #bedrooms = 3, we predict a house value of \" + str(predict) + \" dollar\")"
   ]
  },
  {
   "cell_type": "markdown",
   "metadata": {},
   "source": [
    "The values of $\\Theta$ cannot be compared with the values found in hands-on 2, multivariate regression, as sklearn provides the values without requiring feature normalization.\n",
    "\n",
    "However, the prediction of size 1650 and 3 bedrooms gives a value that is close to the value that we found with hands-on 2, multivariate regression, namely 289221 dollar. Some confirmation that our own coding effort does not contain obvious errors."
   ]
  },
  {
   "cell_type": "code",
   "execution_count": null,
   "metadata": {},
   "outputs": [],
   "source": []
  }
 ],
 "metadata": {
  "kernelspec": {
   "display_name": "Python 3",
   "language": "python",
   "name": "python3"
  },
  "language_info": {
   "codemirror_mode": {
    "name": "ipython",
    "version": 3
   },
   "file_extension": ".py",
   "mimetype": "text/x-python",
   "name": "python",
   "nbconvert_exporter": "python",
   "pygments_lexer": "ipython3",
   "version": "3.7.3"
  }
 },
 "nbformat": 4,
 "nbformat_minor": 4
}
