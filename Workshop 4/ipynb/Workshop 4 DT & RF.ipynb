{
  "nbformat": 4,
  "nbformat_minor": 0,
  "metadata": {
    "kernelspec": {
      "display_name": "Python 3",
      "language": "python",
      "name": "python3"
    },
    "language_info": {
      "codemirror_mode": {
        "name": "ipython",
        "version": 3
      },
      "file_extension": ".py",
      "mimetype": "text/x-python",
      "name": "python",
      "nbconvert_exporter": "python",
      "pygments_lexer": "ipython3",
      "version": "3.8.3"
    },
    "colab": {
      "name": "Workshop 4 DT & RF.ipynb",
      "provenance": [],
      "toc_visible": true
    }
  },
  "cells": [
    {
      "cell_type": "markdown",
      "metadata": {
        "id": "qkK5xIF6IBP1",
        "colab_type": "text"
      },
      "source": [
        "# Workshop 5 Decision trees & random forests"
      ]
    },
    {
      "cell_type": "markdown",
      "metadata": {
        "id": "U4CZFXGqIBP2",
        "colab_type": "text"
      },
      "source": [
        "Interesting sources: \n",
        "- https://learn.datacamp.com/courses/machine-learning-with-tree-based-models-in-python\n",
        "- https://www.datacamp.com/community/tutorials/decision-tree-classification-python\n",
        "- https://www.datacamp.com/community/tutorials/random-forests-classifier-python"
      ]
    },
    {
      "cell_type": "markdown",
      "metadata": {
        "id": "V3d8GXK6IBP2",
        "colab_type": "text"
      },
      "source": [
        "![](https://docs.microsoft.com/en-us/azure/machine-learning/team-data-science-process/media/overview/tdsp-lifecycle2.png \"Data Science Lifecycle\")"
      ]
    },
    {
      "cell_type": "code",
      "metadata": {
        "id": "0bh0CV8RILd3",
        "colab_type": "code",
        "colab": {
          "base_uri": "https://localhost:8080/",
          "height": 204
        },
        "outputId": "f1fa6e12-eb18-4316-864d-67e301f6f091"
      },
      "source": [
        "!wget https://raw.githubusercontent.com/sjoerdteunisse/Avans-A.I-Minor/master/Workshop%204/data/EnergyCorp.csv"
      ],
      "execution_count": 2,
      "outputs": [
        {
          "output_type": "stream",
          "text": [
            "--2020-09-07 10:34:30--  https://raw.githubusercontent.com/sjoerdteunisse/Avans-A.I-Minor/master/Workshop%204/data/EnergyCorp.csv\n",
            "Resolving raw.githubusercontent.com (raw.githubusercontent.com)... 151.101.0.133, 151.101.64.133, 151.101.128.133, ...\n",
            "Connecting to raw.githubusercontent.com (raw.githubusercontent.com)|151.101.0.133|:443... connected.\n",
            "HTTP request sent, awaiting response... 200 OK\n",
            "Length: 1663292 (1.6M) [text/plain]\n",
            "Saving to: ‘EnergyCorp.csv.1’\n",
            "\n",
            "\rEnergyCorp.csv.1      0%[                    ]       0  --.-KB/s               \rEnergyCorp.csv.1    100%[===================>]   1.59M  --.-KB/s    in 0.1s    \n",
            "\n",
            "2020-09-07 10:34:30 (16.2 MB/s) - ‘EnergyCorp.csv.1’ saved [1663292/1663292]\n",
            "\n"
          ],
          "name": "stdout"
        }
      ]
    },
    {
      "cell_type": "code",
      "metadata": {
        "id": "6O9hxKPHIBP3",
        "colab_type": "code",
        "colab": {
          "base_uri": "https://localhost:8080/",
          "height": 289
        },
        "outputId": "8d782506-19f1-4a12-8c42-9d4c6c0f903e"
      },
      "source": [
        "import pandas as pd\n",
        "df = pd.read_csv('/content/EnergyCorp.csv', sep=';')\n",
        "df.head()"
      ],
      "execution_count": 5,
      "outputs": [
        {
          "output_type": "execute_result",
          "data": {
            "text/html": [
              "<div>\n",
              "<style scoped>\n",
              "    .dataframe tbody tr th:only-of-type {\n",
              "        vertical-align: middle;\n",
              "    }\n",
              "\n",
              "    .dataframe tbody tr th {\n",
              "        vertical-align: top;\n",
              "    }\n",
              "\n",
              "    .dataframe thead th {\n",
              "        text-align: right;\n",
              "    }\n",
              "</style>\n",
              "<table border=\"1\" class=\"dataframe\">\n",
              "  <thead>\n",
              "    <tr style=\"text-align: right;\">\n",
              "      <th></th>\n",
              "      <th>klantnr</th>\n",
              "      <th>huidig_contractduur</th>\n",
              "      <th>VERBRUIKGAS</th>\n",
              "      <th>VERBRUIKEL</th>\n",
              "      <th>VERBRUIKHOOG</th>\n",
              "      <th>VERBRUIKLAAG</th>\n",
              "      <th>nieuwsbrief</th>\n",
              "      <th>wervingskanaal</th>\n",
              "      <th>vast_variabel</th>\n",
              "      <th>grijs_groen</th>\n",
              "      <th>startlevering</th>\n",
              "      <th>eindlevering</th>\n",
              "      <th>contract_verlengd</th>\n",
              "      <th>welstand</th>\n",
              "      <th>levensfase</th>\n",
              "      <th>bouwjaar</th>\n",
              "      <th>soort_woning</th>\n",
              "      <th>inkomen</th>\n",
              "      <th>opleiding</th>\n",
              "    </tr>\n",
              "  </thead>\n",
              "  <tbody>\n",
              "    <tr>\n",
              "      <th>0</th>\n",
              "      <td>10135</td>\n",
              "      <td>12</td>\n",
              "      <td>0</td>\n",
              "      <td>3047</td>\n",
              "      <td>0</td>\n",
              "      <td>0</td>\n",
              "      <td>Y</td>\n",
              "      <td>Online</td>\n",
              "      <td>vaste prijs</td>\n",
              "      <td>grijze stroom</td>\n",
              "      <td>11-10-2002</td>\n",
              "      <td>3-11-2004</td>\n",
              "      <td>niet verlengd</td>\n",
              "      <td>Laag</td>\n",
              "      <td>Alleenstaand</td>\n",
              "      <td>1940 tot 1969</td>\n",
              "      <td>Hoge flat</td>\n",
              "      <td>tussen modaal en 2 keer modaal keer modaal of ...</td>\n",
              "      <td>Midden</td>\n",
              "    </tr>\n",
              "    <tr>\n",
              "      <th>1</th>\n",
              "      <td>10150</td>\n",
              "      <td>12</td>\n",
              "      <td>0</td>\n",
              "      <td>0</td>\n",
              "      <td>3247</td>\n",
              "      <td>3257</td>\n",
              "      <td>Y</td>\n",
              "      <td>Online</td>\n",
              "      <td>vaste prijs</td>\n",
              "      <td>grijze stroom</td>\n",
              "      <td>11-10-2002</td>\n",
              "      <td>11-10-2005</td>\n",
              "      <td>niet verlengd</td>\n",
              "      <td>Hoog</td>\n",
              "      <td>Paar met kinderen</td>\n",
              "      <td>1970 tot 1989</td>\n",
              "      <td>Rijtjeshuis</td>\n",
              "      <td>modaal</td>\n",
              "      <td>Hoog</td>\n",
              "    </tr>\n",
              "    <tr>\n",
              "      <th>2</th>\n",
              "      <td>10159</td>\n",
              "      <td>12</td>\n",
              "      <td>0</td>\n",
              "      <td>2426</td>\n",
              "      <td>0</td>\n",
              "      <td>0</td>\n",
              "      <td>N</td>\n",
              "      <td>Online</td>\n",
              "      <td>vaste prijs</td>\n",
              "      <td>grijze stroom</td>\n",
              "      <td>11-10-2002</td>\n",
              "      <td>5-1-2007</td>\n",
              "      <td>niet verlengd</td>\n",
              "      <td>Midden</td>\n",
              "      <td>Paar met kinderen</td>\n",
              "      <td>Voor 1899</td>\n",
              "      <td>Rijtjeshuis</td>\n",
              "      <td>tussen modaal en 2 keer modaal</td>\n",
              "      <td>Hoog</td>\n",
              "    </tr>\n",
              "    <tr>\n",
              "      <th>3</th>\n",
              "      <td>10193</td>\n",
              "      <td>36</td>\n",
              "      <td>1616</td>\n",
              "      <td>2092</td>\n",
              "      <td>0</td>\n",
              "      <td>0</td>\n",
              "      <td>Y</td>\n",
              "      <td>Inbound</td>\n",
              "      <td>variabele prijs</td>\n",
              "      <td>groene stroom</td>\n",
              "      <td>17-10-2002</td>\n",
              "      <td>26-3-2012</td>\n",
              "      <td>niet verlengd</td>\n",
              "      <td>Laag</td>\n",
              "      <td>Paar met kinderen</td>\n",
              "      <td>Voor 1899</td>\n",
              "      <td>Lage flat</td>\n",
              "      <td>modaal</td>\n",
              "      <td>Laag</td>\n",
              "    </tr>\n",
              "    <tr>\n",
              "      <th>4</th>\n",
              "      <td>10206</td>\n",
              "      <td>12</td>\n",
              "      <td>0</td>\n",
              "      <td>2787</td>\n",
              "      <td>0</td>\n",
              "      <td>0</td>\n",
              "      <td>Y</td>\n",
              "      <td>Online</td>\n",
              "      <td>vaste prijs</td>\n",
              "      <td>groene stroom</td>\n",
              "      <td>11-10-2002</td>\n",
              "      <td>5-2-2009</td>\n",
              "      <td>niet verlengd</td>\n",
              "      <td>Hoog</td>\n",
              "      <td>Paar met kinderen</td>\n",
              "      <td>Voor 1899</td>\n",
              "      <td>Rijtjeshuis</td>\n",
              "      <td>modaal</td>\n",
              "      <td>Midden</td>\n",
              "    </tr>\n",
              "  </tbody>\n",
              "</table>\n",
              "</div>"
            ],
            "text/plain": [
              "   klantnr  ...  opleiding\n",
              "0    10135  ...     Midden\n",
              "1    10150  ...       Hoog\n",
              "2    10159  ...       Hoog\n",
              "3    10193  ...       Laag\n",
              "4    10206  ...     Midden\n",
              "\n",
              "[5 rows x 19 columns]"
            ]
          },
          "metadata": {
            "tags": []
          },
          "execution_count": 5
        }
      ]
    },
    {
      "cell_type": "code",
      "metadata": {
        "id": "AurRujbzIBP6",
        "colab_type": "code",
        "colab": {}
      },
      "source": [
        "df['contract_verlengd'].unique()"
      ],
      "execution_count": null,
      "outputs": []
    },
    {
      "cell_type": "code",
      "metadata": {
        "id": "LV2NRUALIBP8",
        "colab_type": "code",
        "colab": {}
      },
      "source": [
        "df['contract_verlengd'].isna().sum()"
      ],
      "execution_count": null,
      "outputs": []
    },
    {
      "cell_type": "code",
      "metadata": {
        "id": "byc-u-PAIBP-",
        "colab_type": "code",
        "colab": {}
      },
      "source": [
        "def convert_contract_verlengd(contractVerlengd):\n",
        "    if(contractVerlengd == 'verlengd'):\n",
        "        return 0\n",
        "    else:\n",
        "        return 1"
      ],
      "execution_count": null,
      "outputs": []
    },
    {
      "cell_type": "code",
      "metadata": {
        "id": "aZG-aNHoIBP_",
        "colab_type": "code",
        "colab": {}
      },
      "source": [
        "print(convert_contract_verlengd('verlengd'))\n",
        "print(convert_contract_verlengd('niet verlengd'))"
      ],
      "execution_count": null,
      "outputs": []
    },
    {
      "cell_type": "code",
      "metadata": {
        "id": "KJvpsRkoIBQB",
        "colab_type": "code",
        "colab": {}
      },
      "source": [
        "df['churned'] = df['contract_verlengd'].apply(convert_contract_verlengd)"
      ],
      "execution_count": null,
      "outputs": []
    },
    {
      "cell_type": "code",
      "metadata": {
        "id": "GQi7EoUlIBQD",
        "colab_type": "code",
        "colab": {}
      },
      "source": [
        "df['churned'].head()"
      ],
      "execution_count": null,
      "outputs": []
    },
    {
      "cell_type": "code",
      "metadata": {
        "id": "8xo4XgpgIBQG",
        "colab_type": "code",
        "colab": {}
      },
      "source": [
        "df['churned'].mean()"
      ],
      "execution_count": null,
      "outputs": []
    },
    {
      "cell_type": "code",
      "metadata": {
        "id": "Hf8V62QmIBQH",
        "colab_type": "code",
        "colab": {}
      },
      "source": [
        "import seaborn as sns\n",
        "sns.catplot(y=\"churned\", x=\"huidig_contractduur\", kind=\"bar\", data=df);"
      ],
      "execution_count": null,
      "outputs": []
    },
    {
      "cell_type": "code",
      "metadata": {
        "id": "xv1L1dzcIBQJ",
        "colab_type": "code",
        "colab": {}
      },
      "source": [
        "import seaborn as sns\n",
        "sns.catplot(x=\"churned\", y=\"wervingskanaal\", kind=\"bar\", data=df)"
      ],
      "execution_count": null,
      "outputs": []
    },
    {
      "cell_type": "markdown",
      "metadata": {
        "id": "KBNat6e5IBQL",
        "colab_type": "text"
      },
      "source": [
        "Most machine learning algorithms in Python can not handle categorical data directly. We will need to convert categorical data into numeric values. We can do so by creating **dummy variables**."
      ]
    },
    {
      "cell_type": "code",
      "metadata": {
        "id": "_9AKCMbqIBQL",
        "colab_type": "code",
        "colab": {}
      },
      "source": [
        "wervingskanaal_dummies = pd.get_dummies(df['wervingskanaal'])\n",
        "wervingskanaal_dummies.head()"
      ],
      "execution_count": null,
      "outputs": []
    },
    {
      "cell_type": "code",
      "metadata": {
        "id": "Ay_gnlHfIBQN",
        "colab_type": "code",
        "colab": {}
      },
      "source": [
        "import seaborn as sns\n",
        "sns.catplot(x=\"churned\", y=\"vast_variabel\", kind=\"bar\", data=df)"
      ],
      "execution_count": null,
      "outputs": []
    },
    {
      "cell_type": "code",
      "metadata": {
        "id": "yDv7mUSpIBQO",
        "colab_type": "code",
        "colab": {}
      },
      "source": [
        "import seaborn as sns\n",
        "sns.catplot(x=\"churned\", y=\"grijs_groen\", kind=\"bar\", data=df)"
      ],
      "execution_count": null,
      "outputs": []
    },
    {
      "cell_type": "code",
      "metadata": {
        "id": "N0Td82D7IBQQ",
        "colab_type": "code",
        "colab": {}
      },
      "source": [
        "df_prepped = df.join(wervingskanaal_dummies)\n",
        "df_prepped['vaste_prijs'] = df['vast_variabel'] == 'vaste prijs'\n",
        "df_prepped['groene_stroom'] = df['grijs_groen'] == 'groene stroom'"
      ],
      "execution_count": null,
      "outputs": []
    },
    {
      "cell_type": "markdown",
      "metadata": {
        "id": "zGFaluu6IBQS",
        "colab_type": "text"
      },
      "source": [
        "## Training and Testing\n",
        "\n",
        "We not only have to train our decision tree model, we should also verify that it works. However, we just have one dataset available to us...\n",
        "\n",
        "With this verification we make sure that we don't **overfit** the model. We could learn to output exactly the right answer of our data set, but we might not get any new data correct. We'll dive into this deeper later in the notebook. The [wikipedia](https://en.wikipedia.org/wiki/Overfitting) page on overfitting is also a good resource to learn more on overfitting.\n",
        "\n",
        "A standard solution to this problem is dividing up the data you have available into a **training set** and a **test set**. We train the model on the training set and verify that we didn't overfit on the test set. \n",
        "\n",
        "Let's split our data set!"
      ]
    },
    {
      "cell_type": "code",
      "metadata": {
        "id": "8FOIy1tgIBQT",
        "colab_type": "code",
        "colab": {}
      },
      "source": [
        "from sklearn.model_selection import train_test_split\n",
        "train_test_split?"
      ],
      "execution_count": null,
      "outputs": []
    },
    {
      "cell_type": "code",
      "metadata": {
        "id": "aqhVZgXwIBQU",
        "colab_type": "code",
        "colab": {}
      },
      "source": [
        "df_train, df_test = train_test_split(df_prepped, test_size=0.3, stratify=df['churned'], random_state=42)\n",
        "print(df_train.shape, df_test.shape)"
      ],
      "execution_count": null,
      "outputs": []
    },
    {
      "cell_type": "code",
      "metadata": {
        "id": "QKAGWYAuIBQW",
        "colab_type": "code",
        "colab": {}
      },
      "source": [
        "print(df_train['churned'].mean())\n",
        "print(df_test['churned'].mean())"
      ],
      "execution_count": null,
      "outputs": []
    },
    {
      "cell_type": "markdown",
      "metadata": {
        "id": "UTHk1BwpIBQX",
        "colab_type": "text"
      },
      "source": [
        "## Evaluation\n",
        "One very important step in your data science flow is to choose an appropriate evaluation metric for your problem.\n",
        "\n",
        "Regression\n",
        "- RMSE\n",
        "- ...\n",
        "\n",
        "Classification\n",
        "- True positive rate & False positive rate\n",
        "- Area under the ROC curve (AUROC)\n",
        "-  ...\n",
        "\n",
        "**Avoid ussing accuracy as your evaluation metric**. Accuracy does not distinguish between type 1 and type 2 error.\n",
        "![](https://mk0abtastybwtpirqi5t.kinstacdn.com/wp-content/uploads/type-1-2-errors.png)\n",
        "This results in the following two important downsides:\n",
        "- Accuracy alone doesn't provide you with any insight about whether your model has learned anything and whether it is useful. For example let's say that we want to predict whether a person has COVID and let's say that 0.1% of the population has COVID. If we use a trivial model that always predicts that a person does not have COVID then that model has an accuracy of 99.9%.\n",
        "- In many cases a type 1 error and type 2 error have different severities. For example compare the impact of labeling a person with COVID incorrectly as healthy to the impact of labeling a healthy person incorrectly as having COVID."
      ]
    },
    {
      "cell_type": "markdown",
      "metadata": {
        "id": "T5XN_SL3IBQY",
        "colab_type": "text"
      },
      "source": [
        "![](https://miro.medium.com/max/966/1*lqDsPkfXPGen32Uem1PTNg.png \"RMSE\")"
      ]
    },
    {
      "cell_type": "code",
      "metadata": {
        "id": "dyxZ3qTkIBQY",
        "colab_type": "code",
        "colab": {}
      },
      "source": [
        "def compute_rmse(truth, prediction):\n",
        "    diff = 0\n",
        "    \n",
        "    for truth_i, prediction_i in zip(truth, prediction):\n",
        "        diff += (truth_i - prediction_i)**2\n",
        "        \n",
        "    return (diff/len(truth))**(1/2)"
      ],
      "execution_count": null,
      "outputs": []
    },
    {
      "cell_type": "code",
      "metadata": {
        "id": "8aVBYzKCIBQa",
        "colab_type": "code",
        "colab": {}
      },
      "source": [
        "compute_rmse(pd.Series([1,1,1,1]),pd.Series([1,2,0,3]))"
      ],
      "execution_count": null,
      "outputs": []
    },
    {
      "cell_type": "code",
      "metadata": {
        "id": "xeEwRyvMIBQb",
        "colab_type": "code",
        "colab": {}
      },
      "source": [
        "import numpy as np\n",
        "from sklearn import metrics\n",
        "\n",
        "def compute_auroc(truth, prediction):\n",
        "    fpr, tpr, thresholds = metrics.roc_curve(truth, prediction, pos_label=1)\n",
        "    return metrics.auc(fpr, tpr)"
      ],
      "execution_count": null,
      "outputs": []
    },
    {
      "cell_type": "code",
      "metadata": {
        "id": "PynSjZQWIBQd",
        "colab_type": "code",
        "colab": {}
      },
      "source": [
        "def plot_auroc(truth, predictions):\n",
        "    fpr, tpr, threshold = metrics.roc_curve(truth, predictions)\n",
        "    roc_auc = metrics.auc(fpr, tpr)\n",
        "\n",
        "    # method I: plt\n",
        "    import matplotlib.pyplot as plt\n",
        "    plt.title('Receiver Operating Characteristic')\n",
        "    plt.plot(fpr, tpr, 'b', label = 'AUC = %0.2f' % roc_auc)\n",
        "    plt.legend(loc = 'lower right')\n",
        "    plt.plot([0, 1], [0, 1],'r--')\n",
        "    plt.xlim([0, 1])\n",
        "    plt.ylim([0, 1])\n",
        "    plt.ylabel('True Positive Rate')\n",
        "    plt.xlabel('False Positive Rate')\n",
        "    plt.show()"
      ],
      "execution_count": null,
      "outputs": []
    },
    {
      "cell_type": "code",
      "metadata": {
        "id": "FebmNuyhIBQe",
        "colab_type": "code",
        "colab": {}
      },
      "source": [
        "alwaysChurn = pd.Series([1]).repeat(len(df_test))\n",
        "neverChurn = pd.Series([0]).repeat(len(df_test))\n",
        "meanChurn = pd.Series(df_test['churned'].mean()).repeat(len(df_test))"
      ],
      "execution_count": null,
      "outputs": []
    },
    {
      "cell_type": "code",
      "metadata": {
        "id": "DNbu-58sIBQf",
        "colab_type": "code",
        "colab": {}
      },
      "source": [
        "print(compute_rmse(df_test['churned'], df_test['churned']))\n",
        "print(compute_rmse(df_test['churned'], alwaysChurn )) # Error if we always predict churn\n",
        "print(compute_rmse(df_test['churned'], neverChurn)) # Error if we never predict churn\n",
        "print(compute_rmse(df_test['churned'], meanChurn)) # Error if we predict the mean as probability of churning"
      ],
      "execution_count": null,
      "outputs": []
    },
    {
      "cell_type": "code",
      "metadata": {
        "id": "5Anf5OIUIBQh",
        "colab_type": "code",
        "colab": {}
      },
      "source": [
        "print(compute_auroc(df_test['churned'], df_test['churned']))\n",
        "print(compute_auroc(df_test['churned'], alwaysChurn )) # Auroc if we always predict churn\n",
        "plot_auroc(df_test['churned'], alwaysChurn )\n",
        "print(compute_auroc(df_test['churned'], neverChurn)) # Auroc if we never predict churn\n",
        "plot_auroc(df_test['churned'], neverChurn)\n",
        "print(compute_auroc(df_test['churned'], meanChurn)) # Auroc if we predict the mean as probability of churning\n",
        "plot_auroc(df_test['churned'], meanChurn)"
      ],
      "execution_count": null,
      "outputs": []
    },
    {
      "cell_type": "markdown",
      "metadata": {
        "id": "kfBsXej6IBQi",
        "colab_type": "text"
      },
      "source": [
        "## Decision trees"
      ]
    },
    {
      "cell_type": "markdown",
      "metadata": {
        "id": "Jq78wS3KIBQj",
        "colab_type": "text"
      },
      "source": [
        "One way to understand decision trees is by first manually creating a decision tree ourselves."
      ]
    },
    {
      "cell_type": "code",
      "metadata": {
        "id": "XQDh1CWeIBQj",
        "colab_type": "code",
        "colab": {}
      },
      "source": [
        "df_train.groupby(\"huidig_contractduur\")['churned'].mean()"
      ],
      "execution_count": null,
      "outputs": []
    },
    {
      "cell_type": "code",
      "metadata": {
        "id": "ExQ7wCmMIBQl",
        "colab_type": "code",
        "colab": {}
      },
      "source": [
        "def model1(row):\n",
        "    if row.huidig_contractduur == 12:\n",
        "        return 0.504228\n",
        "    elif row.huidig_contractduur == 24:\n",
        "        return 0.686469\n",
        "    elif row.huidig_contractduur == 36:\n",
        "        return 0.388289\n",
        "    elif row.huidig_contractduur >=60:\n",
        "        return 0\n",
        "    else:\n",
        "        return 0.410952 # Mean value across the whole dataset."
      ],
      "execution_count": null,
      "outputs": []
    },
    {
      "cell_type": "code",
      "metadata": {
        "id": "rXbmKpJZIBQm",
        "colab_type": "code",
        "colab": {}
      },
      "source": [
        "predictions1 = df_test.apply(model1, axis=1)\n",
        "predictions1.head()"
      ],
      "execution_count": null,
      "outputs": []
    },
    {
      "cell_type": "code",
      "metadata": {
        "id": "cq5GuL_HIBQo",
        "colab_type": "code",
        "colab": {}
      },
      "source": [
        "predictions1.value_counts()"
      ],
      "execution_count": null,
      "outputs": []
    },
    {
      "cell_type": "code",
      "metadata": {
        "id": "fG8H5FOmIBQp",
        "colab_type": "code",
        "colab": {}
      },
      "source": [
        "compute_rmse(df_test['churned'], predictions1)"
      ],
      "execution_count": null,
      "outputs": []
    },
    {
      "cell_type": "code",
      "metadata": {
        "id": "AoIgXTymIBQr",
        "colab_type": "code",
        "colab": {}
      },
      "source": [
        "plot_auroc(df_test['churned'], predictions1)\n",
        "compute_auroc(df_test['churned'], predictions1)"
      ],
      "execution_count": null,
      "outputs": []
    },
    {
      "cell_type": "code",
      "metadata": {
        "id": "qo5jdzHYIBQt",
        "colab_type": "code",
        "colab": {}
      },
      "source": [
        "featuresModel1 = ['huidig_contractduur'] # , 'levensfase','bouwjaar'"
      ],
      "execution_count": null,
      "outputs": []
    },
    {
      "cell_type": "code",
      "metadata": {
        "id": "j05QABSDIBQu",
        "colab_type": "code",
        "colab": {}
      },
      "source": [
        "df_train[featuresModel1].head()"
      ],
      "execution_count": null,
      "outputs": []
    },
    {
      "cell_type": "code",
      "metadata": {
        "id": "qHmEJ5rZIBQw",
        "colab_type": "code",
        "colab": {}
      },
      "source": [
        "from sklearn.tree import DecisionTreeClassifier\n",
        "dt = DecisionTreeClassifier()\n",
        "dt.fit(df_train[featuresModel1], df_train['churned'])"
      ],
      "execution_count": null,
      "outputs": []
    },
    {
      "cell_type": "code",
      "metadata": {
        "id": "xfU-ZECsIBQx",
        "colab_type": "code",
        "colab": {}
      },
      "source": [
        "def apply_model(model, features, validation_function = compute_rmse, print_to_screen = True, show_auroc = False):\n",
        "    pred_tree_train = model.predict_proba(df_train[features])\n",
        "    pred_tree_test = model.predict_proba(df_test[features])\n",
        "    \n",
        "    pred_churn_tree_train = pd.Series(map(lambda x: x[1], pred_tree_train))\n",
        "    pred_churn_tree_test = pd.Series(map(lambda x: x[1], pred_tree_test))\n",
        "    \n",
        "    validation_result_train = validation_function(df_train['churned'], pred_churn_tree_train) \n",
        "    validation_result_test = validation_function(df_test['churned'], pred_churn_tree_test)\n",
        "    \n",
        "    if(print_to_screen):\n",
        "        print( \"Result on trainset:\" )\n",
        "        print( validation_result_train )\n",
        "        print()\n",
        "        print( \"Result on testset:\" )\n",
        "        print( validation_result_test )\n",
        "    if(show_auroc):\n",
        "        plot_auroc(df_test['churned'], pred_churn_tree_test)\n",
        "    \n",
        "    return (validation_result_train, validation_result_test)"
      ],
      "execution_count": null,
      "outputs": []
    },
    {
      "cell_type": "code",
      "metadata": {
        "id": "dekfojfkIBQz",
        "colab_type": "code",
        "colab": {}
      },
      "source": [
        "apply_model(dt, featuresModel1)"
      ],
      "execution_count": null,
      "outputs": []
    },
    {
      "cell_type": "code",
      "metadata": {
        "id": "xcSn2UlKIBQ1",
        "colab_type": "code",
        "colab": {}
      },
      "source": [
        "apply_model(dt, featuresModel1, validation_function=compute_auroc, show_auroc=True)"
      ],
      "execution_count": null,
      "outputs": []
    },
    {
      "cell_type": "code",
      "metadata": {
        "id": "6bJAmaOsIBQ2",
        "colab_type": "code",
        "colab": {}
      },
      "source": [
        "import matplotlib.pyplot as plt\n",
        "from sklearn.tree import plot_tree\n",
        "plt.figure(figsize=(20,12))\n",
        "plot_tree(dt)\n",
        "plt.show()"
      ],
      "execution_count": null,
      "outputs": []
    },
    {
      "cell_type": "markdown",
      "metadata": {
        "id": "tBVhDqt8IBQ5",
        "colab_type": "text"
      },
      "source": [
        "We can also make a much prettier version! If you want to do this you'll need to install Graphviz. It can be installed through Anaconda with `conda install -c anaconda graphviz` in the Anaconda prompt. Be sure though to run the Anaconda prompt as Admin for avoiding privileges permission errors.\n",
        "\n",
        "The code below plots the tree, but with column names instead of indices. You can also see what the prediction will be at each **leaf** (lowest nodes on the tree).\n",
        "In this way you can really understand what the model has learned about the data set!\n",
        "\n",
        "(By the way, it also stores a pdf with the full tree in the same directory as the notebook, called 'decision_tree.pdf'.)"
      ]
    },
    {
      "cell_type": "code",
      "metadata": {
        "id": "i-HLTsn7IBQ5",
        "colab_type": "code",
        "colab": {}
      },
      "source": [
        "from sklearn import tree\n",
        "import graphviz\n",
        "\n",
        "def plot_tree(model, features):\n",
        "    # Generate plot data\n",
        "    dot_data = tree.export_graphviz(model, out_file=None, \n",
        "                          feature_names=features,  \n",
        "                          class_names=['not churned', 'churned'],  \n",
        "                          filled=True, rounded=True,  \n",
        "                          special_characters=True)  \n",
        "\n",
        "    # Turn into graph using graphviz\n",
        "    graph = graphviz.Source(dot_data)  \n",
        "\n",
        "    # Write out a pdf\n",
        "    graph.render(\"decision_tree\")\n",
        "\n",
        "    # Display in the notebook\n",
        "    return graph "
      ],
      "execution_count": null,
      "outputs": []
    },
    {
      "cell_type": "code",
      "metadata": {
        "id": "hZbcpp9yIBQ7",
        "colab_type": "code",
        "colab": {}
      },
      "source": [
        "plot_tree(dt, featuresModel1)"
      ],
      "execution_count": null,
      "outputs": []
    },
    {
      "cell_type": "markdown",
      "metadata": {
        "id": "pQk4w6RRIBQ9",
        "colab_type": "text"
      },
      "source": [
        "## Overfitting"
      ]
    },
    {
      "cell_type": "code",
      "metadata": {
        "id": "AWldvCu8IBQ9",
        "colab_type": "code",
        "colab": {}
      },
      "source": [
        "featuresModel2 = ['huidig_contractduur', 'VERBRUIKGAS']\n",
        "dt2 = DecisionTreeClassifier()\n",
        "dt2.fit(df_train[featuresModel2], df_train['churned'])"
      ],
      "execution_count": null,
      "outputs": []
    },
    {
      "cell_type": "code",
      "metadata": {
        "id": "egwuUGpDIBQ_",
        "colab_type": "code",
        "colab": {}
      },
      "source": [
        "apply_model(dt2, featuresModel2)"
      ],
      "execution_count": null,
      "outputs": []
    },
    {
      "cell_type": "code",
      "metadata": {
        "id": "2__Ip8CoIBRB",
        "colab_type": "code",
        "colab": {}
      },
      "source": [
        "apply_model(dt2, featuresModel2, validation_function=compute_auroc)"
      ],
      "execution_count": null,
      "outputs": []
    },
    {
      "cell_type": "code",
      "metadata": {
        "id": "kjgAhmE1IBRD",
        "colab_type": "code",
        "colab": {}
      },
      "source": [
        "# It's best not to plot this tree because it's very big and takes a long time to plot.\n",
        "# plot_tree(dt2, featuresModel2)"
      ],
      "execution_count": null,
      "outputs": []
    },
    {
      "cell_type": "code",
      "metadata": {
        "id": "g--gXYKzIBRF",
        "colab_type": "code",
        "colab": {}
      },
      "source": [
        "err_train = []\n",
        "err_test = []\n",
        "depths = range(1, 15)\n",
        "\n",
        "for depth in depths:\n",
        "    dt = DecisionTreeClassifier(max_depth=depth)\n",
        "    dt.fit(df_train[featuresModel2], df_train['churned'])\n",
        "    err_train_i, err_test_i = apply_model(dt, featuresModel2, print_to_screen=False)\n",
        "    err_train.append(err_train_i)\n",
        "    err_test.append(err_test_i)\n",
        "    \n",
        "plt.plot(depths, err_train, label='train')\n",
        "plt.plot(depths, err_test, label='test')\n",
        "plt.legend()\n",
        "plt.xlabel('maximum depth')\n",
        "plt.ylabel('error')\n",
        "plt.show()"
      ],
      "execution_count": null,
      "outputs": []
    },
    {
      "cell_type": "code",
      "metadata": {
        "id": "himhDHNnIBRH",
        "colab_type": "code",
        "colab": {}
      },
      "source": [
        "dt3 = DecisionTreeClassifier(max_depth=5)\n",
        "dt3.fit(df_train[featuresModel2], df_train['churned'])"
      ],
      "execution_count": null,
      "outputs": []
    },
    {
      "cell_type": "code",
      "metadata": {
        "id": "TV53Qbx-IBRI",
        "colab_type": "code",
        "colab": {}
      },
      "source": [
        "apply_model(dt3, featuresModel2)"
      ],
      "execution_count": null,
      "outputs": []
    },
    {
      "cell_type": "code",
      "metadata": {
        "id": "WNF6wGPoIBRK",
        "colab_type": "code",
        "colab": {}
      },
      "source": [
        "plot_tree(dt3, featuresModel2)"
      ],
      "execution_count": null,
      "outputs": []
    },
    {
      "cell_type": "markdown",
      "metadata": {
        "id": "3JICj0KjIBRL",
        "colab_type": "text"
      },
      "source": [
        "## Decision trees summary\n",
        "\n",
        "Pro:\n",
        "- Human readable and easy to understand\n",
        "\n",
        "Con:\n",
        "- Prone to overfitting. Prune the tree to mitigate this issue.\n",
        "- Can not learn as complex hypotheses as more advanced models like Neural Networks and Random Forests"
      ]
    },
    {
      "cell_type": "markdown",
      "metadata": {
        "id": "hYK8hTGRIBRL",
        "colab_type": "text"
      },
      "source": [
        "## Random forests"
      ]
    },
    {
      "cell_type": "markdown",
      "metadata": {
        "id": "XAkUN1-GIBRL",
        "colab_type": "text"
      },
      "source": [
        "![](http://res.cloudinary.com/dyd911kmh/image/upload/f_auto,q_auto:best/v1526467744/voting_dnjweq.jpg)"
      ]
    },
    {
      "cell_type": "code",
      "metadata": {
        "id": "gT3V6-p7IBRL",
        "colab_type": "code",
        "colab": {}
      },
      "source": [
        "from sklearn.ensemble import RandomForestClassifier\n",
        "\n",
        "featuresModelRF = ['huidig_contractduur', 'Door 2 Door', 'Inbound', 'Online', 'Prijsvergelijker',\n",
        "       'Speciale sales acties', 'Telemarketing', 'vaste_prijs', 'groene_stroom'] \n",
        "forest = RandomForestClassifier(n_estimators=200)\n",
        "forest.fit(df_train[featuresModelRF], df_train['churned'])\n",
        "\n",
        "apply_model(forest, featuresModelRF, show_auroc=True)"
      ],
      "execution_count": null,
      "outputs": []
    },
    {
      "cell_type": "code",
      "metadata": {
        "id": "BPNeX20HIBRN",
        "colab_type": "code",
        "colab": {}
      },
      "source": [
        "err_train = []\n",
        "err_test = []\n",
        "n_trees = range(1, 50)\n",
        "\n",
        "for n_tree in n_trees:\n",
        "    rf = RandomForestClassifier(n_estimators=n_tree)\n",
        "    rf.fit(df_train[featuresModelRF], df_train['churned'])\n",
        "    err_train_i, err_test_i = apply_model(rf, featuresModelRF, print_to_screen=False)\n",
        "    err_train.append(err_train_i)\n",
        "    err_test.append(err_test_i)\n",
        "    \n",
        "plt.plot(n_trees, err_train, label='train')\n",
        "plt.plot(n_trees, err_test, label='test')\n",
        "plt.legend()\n",
        "plt.xlabel('n trees')\n",
        "plt.ylabel('error')\n",
        "plt.show()"
      ],
      "execution_count": null,
      "outputs": []
    },
    {
      "cell_type": "code",
      "metadata": {
        "id": "-wot64UKIBRO",
        "colab_type": "code",
        "colab": {}
      },
      "source": [
        "forest.feature_importances_"
      ],
      "execution_count": null,
      "outputs": []
    },
    {
      "cell_type": "code",
      "metadata": {
        "id": "6CMvRfstIBRR",
        "colab_type": "code",
        "colab": {}
      },
      "source": [
        "importances = forest.feature_importances_\n",
        "std = np.std([tree.feature_importances_ for tree in forest.estimators_],\n",
        "             axis=0)\n",
        "indices = np.argsort(importances)[::-1]\n",
        "features = pd.Series(featuresModelRF)\n",
        "\n",
        "# Print the feature ranking\n",
        "print(\"Feature ranking:\")\n",
        "\n",
        "for f in range(len(featuresModelRF)):\n",
        "    print(\"%d. feature %d %s (%f)\" % (f + 1, indices[f], features[f], importances[indices[f]]))\n",
        "\n",
        "# Plot the impurity-based feature importances of the forest\n",
        "plt.figure()\n",
        "plt.title(\"Feature importances\")\n",
        "plt.bar(range(len(featuresModelRF)), importances[indices],\n",
        "        color=\"r\", yerr=std[indices], align=\"center\")\n",
        "plt.xticks(range(len(featuresModelRF)), features[indices], rotation = 90)\n",
        "plt.xlim([-1, len(featuresModelRF)])\n",
        "plt.show()"
      ],
      "execution_count": null,
      "outputs": []
    },
    {
      "cell_type": "markdown",
      "metadata": {
        "id": "Q2J4Jf9VIBRS",
        "colab_type": "text"
      },
      "source": [
        "## Random forest summary:\n",
        "\n",
        "Pro:\n",
        "- Can learn complex hypotheses compared to models like decision trees, linear and logistic regression\n",
        "- Can rank features based on important. Can be used for feature selection.\n",
        "- Does not need a test set to be evaluated. Can use [Out Of Bag error](https://stackoverflow.com/questions/18541923/what-is-out-of-bag-error-in-random-forests) instead. \n",
        "- The training algorithm scales very well with the number of rows and number of features. Time complexity for building a random forest is `O(#rows*log(#rows)*#features*#trees)`.\n",
        "\n",
        "Con:\n",
        "- Loses the readability and interpretability that decision trees have."
      ]
    },
    {
      "cell_type": "code",
      "metadata": {
        "id": "AM_zNY7eIBRT",
        "colab_type": "code",
        "colab": {}
      },
      "source": [
        ""
      ],
      "execution_count": null,
      "outputs": []
    }
  ]
}